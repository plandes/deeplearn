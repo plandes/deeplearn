{
 "cells": [
  {
   "cell_type": "markdown",
   "metadata": {},
   "source": [
    "# Debug example\n",
    "\n",
    "This example uses the Iris dataset example to show how to debug a model.\n",
    "\n",
    "**Important**: Please see the Iris notebook example first, as it contains more explaination of how the framework is used."
   ]
  },
  {
   "cell_type": "code",
   "execution_count": 1,
   "metadata": {},
   "outputs": [],
   "source": [
    "# set up notebook environment\n",
    "import sys\n",
    "app_root_dir = '..'\n",
    "sys.path.append(app_root_dir + '/src/python')\n",
    "sys.path.append(app_root_dir + '/test/python')\n",
    "\n",
    "from zensols.deeplearn import TorchConfig\n",
    "# set the random seed so things are predictable\n",
    "TorchConfig.set_random_seed()"
   ]
  },
  {
   "cell_type": "markdown",
   "metadata": {},
   "source": [
    "## Create the object factory\n",
    "\n",
    "This creates a factoty that instantiates Python objects using a simple configuration (INI). This removes much of the complexity of creating and \"hooking up\" all the instances."
   ]
  },
  {
   "cell_type": "code",
   "execution_count": 2,
   "metadata": {},
   "outputs": [],
   "source": [
    "import logging\n",
    "from zensols.config import ExtendedInterpolationEnvConfig as AppConfig\n",
    "from zensols.config import ImportConfigFactory\n",
    "from zensols.deeplearn.result import ModelResultGrapher\n",
    "\n",
    "logging.basicConfig(level=logging.WARN)\n",
    "\n",
    "# configure the environment\n",
    "config = AppConfig(app_root_dir + '/test-resources/iris/iris.conf',\n",
    "                   env={'app_root': app_root_dir})"
   ]
  },
  {
   "cell_type": "markdown",
   "metadata": {},
   "source": [
    "## Create a facade for the MNIST executor\n",
    "\n",
    "High level customizations can be made by extending the `ModelFacade` class.  Usually the `_configure_debug_logging` is overriden so when debugging the model, debugging is turned on for the correct (model) module."
   ]
  },
  {
   "cell_type": "code",
   "execution_count": 3,
   "metadata": {},
   "outputs": [],
   "source": [
    "from dataclasses import dataclass\n",
    "from zensols.deeplearn.model import ModelFacade\n",
    "\n",
    "@dataclass\n",
    "class IrisModelFacade(ModelFacade):\n",
    "    def _configure_debug_logging(self):\n",
    "        super()._configure_debug_logging()\n",
    "        logging.getLogger('iris.model').setLevel(logging.DEBUG)"
   ]
  },
  {
   "cell_type": "code",
   "execution_count": 4,
   "metadata": {},
   "outputs": [
    {
     "name": "stderr",
     "output_type": "stream",
     "text": [
      "DEBUG:zensols.deeplearn.model.executor:batch limit: 1 using iteration: gpu\n",
      "DEBUG:zensols.deeplearn.model.executor:cached batches: dict_keys([])\n",
      "INFO:zensols.deeplearn.model.executor:loaded 2 batches in 1s\n",
      "INFO:zensols.deeplearn.model.executor:train [,test] sets: 1 1\n",
      "INFO:zensols.deeplearn.model.executor:created model on cpu with use cuda: True, device: cuda:0\n",
      "DEBUG:zensols.deeplearn.model.executor:created model as dealloc: True\n",
      "DEBUG:zensols.deeplearn.model.executor:criterion: torch.nn.BCEWithLogitsLoss\n",
      "DEBUG:zensols.deeplearn.model.executor:optimizer: torch.optim.Adam\n",
      "DEBUG:zensols.deeplearn.model.executor:criterion=BCEWithLogitsLoss(), optimizer=Adam (\n",
      "Parameter Group 0\n",
      "    amsgrad: False\n",
      "    betas: (0.9, 0.999)\n",
      "    eps: 1e-08\n",
      "    lr: 0.1\n",
      "    weight_decay: 0\n",
      ")\n",
      "DEBUG:zensols.deeplearn.model.executor:model device: cuda:0\n",
      "INFO:zensols.deeplearn.model.executor:training model IrisNetwork(\n",
      "  (fc): DeepLinear(\n",
      "    (dropout): Dropout(p=0.1, inplace=False)\n",
      "    (seq_layers): Sequential(\n",
      "      (0): Linear(in_features=4, out_features=5, bias=True)\n",
      "      (1): Linear(in_features=5, out_features=1, bias=True)\n",
      "      (2): Linear(in_features=1, out_features=3, bias=True)\n",
      "    )\n",
      "  )\n",
      ") on cuda:0\n",
      "DEBUG:zensols.deeplearn.model.executor:training on epoch: 0\n",
      "DEBUG:zensols.deeplearn.model.executor:training on batch: 3\n",
      "DEBUG:zensols.deeplearn.model.executor:train/validate on train: batch=IrisBatch(id='3', split_name='train'): size: 20, state=t (140419243029648)\n",
      "DEBUG:zensols.deeplearn.model.executor:model on device: cuda:0\n",
      "DEBUG:iris.model:input batch: IrisBatch(id='3', split_name='train'): size: 20, state=t\n",
      "DEBUG:iris.model:label shape: torch.Size([20, 3]), torch.float32\n",
      "DEBUG:iris.model:input shape: torch.Size([20, 4]), device: cuda:0\n",
      "DEBUG:iris.model:linear shape: torch.Size([20, 3]), device: cuda:0\n",
      "DEBUG:zensols.deeplearn.model.executor:input: labels=torch.Size([20, 3]) (torch.float32), output=torch.Size([20, 3]) (torch.float32), device=cuda:0\n",
      "DEBUG:zensols.deeplearn.model.executor:split: train, loss: 0.45581135153770447\n",
      "DEBUG:zensols.deeplearn.model.executor:argmax outcomes: torch.Size([20, 3]) -> torch.Size([20])\n",
      "DEBUG:zensols.deeplearn.model.executor:label nom decoded: torch.Size([20])\n",
      "DEBUG:zensols.deeplearn.model.executor:argmax outcomes: torch.Size([20, 3]) -> torch.Size([20])\n",
      "DEBUG:zensols.deeplearn.model.executor:input: labels=torch.Size([20]) (labels.dtype), output=torch.Size([20]) (torch.int64)\n",
      "DEBUG:zensols.deeplearn.model.executor:trained batch in 0s\n",
      "INFO:zensols.deeplearn.model.executor:executed train in 0s\n",
      "WARNING:zensols.deeplearn.model.executor:<early bail to debug the network>\n",
      "INFO:zensols.deeplearn.model.executor:resetting executor\n",
      "DEBUG:zensols.deeplearn.model.executor:dealloc model: model exists/dealloc: True/True\n",
      "DEBUG:zensols.deeplearn.model.executor:deallocating 2 batches\n",
      "DEBUG:zensols.deeplearn.model.executor:deallocating: IrisBatch(id='3', split_name='train'): size: 20, state=d\n",
      "DEBUG:zensols.deeplearn.model.executor:deallocating: IrisBatch(id='0', split_name='dev'): size: 12, state=d\n"
     ]
    },
    {
     "name": "stdout",
     "output_type": "stream",
     "text": [
      "IrisBatch\n",
      "    size: 20\n",
      "        label: torch.Size([20, 3])\n",
      "        flower_dims: torch.Size([20, 4])\n"
     ]
    }
   ],
   "source": [
    "# create the facade instance and invoke the debug method to run foward\n",
    "# this also prints all debugging information in the model class\n",
    "facade = IrisModelFacade(config)\n",
    "facade.debug()"
   ]
  }
 ],
 "metadata": {
  "kernelspec": {
   "display_name": "Python 3",
   "language": "python",
   "name": "python3"
  },
  "language_info": {
   "codemirror_mode": {
    "name": "ipython",
    "version": 3
   },
   "file_extension": ".py",
   "mimetype": "text/x-python",
   "name": "python",
   "nbconvert_exporter": "python",
   "pygments_lexer": "ipython3",
   "version": "3.7.4"
  }
 },
 "nbformat": 4,
 "nbformat_minor": 4
}
