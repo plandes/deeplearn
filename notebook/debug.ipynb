{
 "cells": [
  {
   "cell_type": "markdown",
   "metadata": {},
   "source": [
    "# Debug example\n",
    "\n",
    "This example uses the Iris dataset example to show how to debug a model.\n",
    "\n",
    "**Important**: Please see the Iris notebook example first, as it contains more explaination of how the framework is used."
   ]
  },
  {
   "cell_type": "code",
   "execution_count": 1,
   "metadata": {},
   "outputs": [],
   "source": [
    "# set up notebook environment\n",
    "import sys\n",
    "app_root_dir = '..'\n",
    "sys.path.append(app_root_dir + '/src/python')\n",
    "sys.path.append(app_root_dir + '/test/python')\n",
    "\n",
    "from zensols.deeplearn import TorchConfig\n",
    "# set the random seed so things are predictable\n",
    "TorchConfig.set_random_seed()"
   ]
  },
  {
   "cell_type": "markdown",
   "metadata": {},
   "source": [
    "## Create the object factory\n",
    "\n",
    "This creates a factoty that instantiates Python objects using a simple configuration (INI). This removes much of the complexity of creating and \"hooking up\" all the instances."
   ]
  },
  {
   "cell_type": "code",
   "execution_count": 2,
   "metadata": {},
   "outputs": [],
   "source": [
    "import logging\n",
    "from zensols.config import ExtendedInterpolationEnvConfig as AppConfig\n",
    "from zensols.config import ImportConfigFactory\n",
    "from zensols.deeplearn.result import ModelResultGrapher\n",
    "\n",
    "logging.basicConfig(level=logging.WARN)\n",
    "\n",
    "# configure the environment\n",
    "config = AppConfig(app_root_dir + '/test-resources/iris/iris.conf',\n",
    "                   env={'app_root': app_root_dir})\n",
    "\n",
    "# create a factoty that instantiates Python objects using a simple configuration (INI)\n",
    "factory = ImportConfigFactory(config, shared=True)"
   ]
  },
  {
   "cell_type": "markdown",
   "metadata": {},
   "source": [
    "## Create a facade for the MNIST executor\n",
    "\n",
    "High level customizations can be made by extending the `ModelFacade` class.  Usually the `_configure_debug_logging` is overriden so when debugging the model, debugging is turned on for the correct (model) module."
   ]
  },
  {
   "cell_type": "code",
   "execution_count": 3,
   "metadata": {},
   "outputs": [],
   "source": [
    "from dataclasses import dataclass\n",
    "from zensols.deeplearn.model import ModelFacade\n",
    "\n",
    "@dataclass\n",
    "class IrisModelFacade(ModelFacade):\n",
    "    def _configure_debug_logging(self):\n",
    "        super()._configure_debug_logging()\n",
    "        logging.getLogger('iris.model').setLevel(logging.DEBUG)"
   ]
  },
  {
   "cell_type": "code",
   "execution_count": 4,
   "metadata": {},
   "outputs": [
    {
     "name": "stderr",
     "output_type": "stream",
     "text": [
      "DEBUG:iris.model:batch: IrisBatch(id='3', split_name='train'): size: 20, state=t\n",
      "DEBUG:iris.model:label shape: torch.Size([20, 3]), torch.float32\n",
      "DEBUG:iris.model:input: x: torch.Size([20, 4])\n",
      "WARNING:zensols.deeplearn.model.executor:<early bail to debug the network>\n"
     ]
    }
   ],
   "source": [
    "# create the facade instance and invoke the debug method to run foward\n",
    "# this also prints all debugging information in the model class\n",
    "facade = IrisModelFacade(factory)\n",
    "facade.debug()"
   ]
  },
  {
   "cell_type": "code",
   "execution_count": null,
   "metadata": {},
   "outputs": [],
   "source": []
  }
 ],
 "metadata": {
  "kernelspec": {
   "display_name": "Python 3",
   "language": "python",
   "name": "python3"
  },
  "language_info": {
   "codemirror_mode": {
    "name": "ipython",
    "version": 3
   },
   "file_extension": ".py",
   "mimetype": "text/x-python",
   "name": "python",
   "nbconvert_exporter": "python",
   "pygments_lexer": "ipython3",
   "version": "3.7.4"
  }
 },
 "nbformat": 4,
 "nbformat_minor": 4
}
