{
 "cells": [
  {
   "cell_type": "markdown",
   "metadata": {},
   "source": [
    "# Deep learning framework example: MNIST dataset\n",
    "\n",
    "This notebook demonstrates how to use the deeplearning API to train and test the model on the [MNIST dataset](http://yann.lecun.com/exdb/mnist/).  This dataset contains hand written digits and their labels.\n",
    "\n",
    "\n",
    "**Important**: Please see the Iris notebook example first, as it contains more explaination of how the framework is used.  The purpose of this notebook is to run the MNIST dataset and visualize the results."
   ]
  },
  {
   "cell_type": "code",
   "execution_count": 1,
   "metadata": {},
   "outputs": [],
   "source": [
    "import sys\n",
    "import logging\n",
    "from zensols.config import ExtendedInterpolationEnvConfig as AppConfig\n",
    "from zensols.config import ImportConfigFactory\n",
    "from zensols.deeplearn.result import ModelResultGrapher\n",
    "from zensols.deeplearn import TorchConfig\n",
    "\n",
    "# set up notebook environment\n",
    "app_root_dir = '..'\n",
    "sys.path.append(app_root_dir + '/src/python')\n",
    "sys.path.append(app_root_dir + '/test/python')\n",
    "\n",
    "# configure logging\n",
    "logging.basicConfig(format='%(asctime)-15s %(name)s [%(levelname)s]: %(message)s', level=logging.WARNING)\n",
    "#logging.getLogger('zensols.deeplearn.batch.stash').setLevel(logging.INFO)\n",
    "#logging.getLogger('zensols.deeplearn.model.facade').setLevel(logging.INFO)\n",
    "\n",
    "# set the random seed so things are predictable\n",
    "TorchConfig.set_random_seed()\n",
    "\n",
    "# configure the environment\n",
    "config = AppConfig(app_root_dir + '/test-resources/mnist/mnist.conf',\n",
    "                   env={'app_root': app_root_dir})\n",
    "\n",
    "# create a factoty that instantiates Python objects using a simple configuration (INI)\n",
    "factory = ImportConfigFactory(config)"
   ]
  },
  {
   "cell_type": "markdown",
   "metadata": {},
   "source": [
    "## Create the model facade\n",
    "\n",
    "Create the facade with a factory, which in turn creates the executor.  The statistics on the data set that is configured on the executor is, by default, printed to standard out.  You can set the `writer` property to `None` on the facade to disable this."
   ]
  },
  {
   "cell_type": "code",
   "execution_count": 2,
   "metadata": {},
   "outputs": [],
   "source": [
    "from zensols.deeplearn.model import ModelFacade\n",
    "facade = ModelFacade(factory, cache_executor=True, cache_batches=True)"
   ]
  },
  {
   "cell_type": "markdown",
   "metadata": {},
   "source": [
    "## Train and test the model\n",
    "\n",
    "This trains the model on the Iris (flower) data set and prints the results.  The PyTorch model itself is also printed.\n",
    "\n",
    "Note that in this step, all batches are loaded and logged.  This example shows that with `cache_executor` and `cache_batches` set to `True`, batches are not reloaded.  This saves time in terms of allocating, decoding and then deallocating CPU/GPU memory, especially when tuning hyperparameters and re-running for large datasets."
   ]
  },
  {
   "cell_type": "code",
   "execution_count": 3,
   "metadata": {},
   "outputs": [
    {
     "name": "stdout",
     "output_type": "stream",
     "text": [
      "feature splits:\n",
      "    split stash splits:\n",
      "        train: 48000 (68.6%)\n",
      "        val: 12000 (17.1%)\n",
      "        test: 10000 (14.3%)\n",
      "        total: 70000\n",
      "    total this instance: 70000\n",
      "    keys consistent: True\n",
      "batch splits:\n",
      "    split stash splits:\n",
      "        train: 2400 (68.6%)\n",
      "        val: 600 (17.1%)\n",
      "        test: 500 (14.3%)\n",
      "        total: 3500\n",
      "    total this instance: 3500\n",
      "    keys consistent: True\n"
     ]
    },
    {
     "name": "stderr",
     "output_type": "stream",
     "text": [
      "train: 6.749|valid: 9.571/5.145 /\\: 100%|██████| 40/40 [02:43<00:00,  4.10s/it]\n"
     ]
    },
    {
     "name": "stdout",
     "output_type": "stream",
     "text": [
      "Name: Mnist: 1\n",
      "Run index: 2\n",
      "Learning rate: 0.01\n",
      "    train:\n",
      "        started: 06/17/2020 18:33:13:763085\n",
      "        ended: 06/17/2020 18:35:57:725645\n",
      "        epochs: 40\n",
      "        batches: 2400\n",
      "        ave data points: 20.0\n",
      "        average loss: 0.003323994755597144\n",
      "        min loss: 0.0\n",
      "        epoch converged: 34\n",
      "        num outcomes: 1920000\n",
      "        micro: F1: 0.906, precision: 0.91, recall: 0.91\n",
      "        macro: F1: 0.907, precision: 0.91, recall: 0.91\n",
      "    validation:\n",
      "        epochs: 40\n",
      "        batches: 600\n",
      "        ave data points: 20.0\n",
      "        average loss: 0.012518746518766834\n",
      "        min loss: 0.004660844861064106\n",
      "        epoch converged: 6\n",
      "        num outcomes: 480000\n",
      "        micro: F1: 0.935, precision: 0.94, recall: 0.94\n",
      "        macro: F1: 0.935, precision: 0.94, recall: 0.93\n",
      "    test:\n",
      "        started: 06/17/2020 18:36:08:363601\n",
      "        ended: 06/17/2020 18:36:08:560155\n",
      "        epochs: 1\n",
      "        batches: 500\n",
      "        ave data points: 20.0\n",
      "        average loss: 0.010546675947294571\n",
      "        min loss: 0.005451202159747481\n",
      "        epoch converged: 0\n",
      "        num outcomes: 10000\n",
      "        micro: F1: 0.934, precision: 0.93, recall: 0.93\n",
      "        macro: F1: 0.934, precision: 0.94, recall: 0.93\n"
     ]
    }
   ],
   "source": [
    "facade.train()\n",
    "default_res = facade.test()"
   ]
  },
  {
   "cell_type": "markdown",
   "metadata": {},
   "source": [
    "## Switch to stochastic gradient descent from the default (adam).\n",
    "\n",
    "For this task, the (older) stochastic gradient descent algorithm works better."
   ]
  },
  {
   "cell_type": "code",
   "execution_count": 4,
   "metadata": {},
   "outputs": [],
   "source": [
    "facade.executor.model_settings.optimizer_class_name = 'torch.optim.SGD'\n",
    "desc = 'switch to SGD'"
   ]
  },
  {
   "cell_type": "code",
   "execution_count": 5,
   "metadata": {},
   "outputs": [
    {
     "name": "stdout",
     "output_type": "stream",
     "text": [
      "feature splits:\n",
      "    split stash splits:\n"
     ]
    },
    {
     "name": "stderr",
     "output_type": "stream",
     "text": [
      "\r",
      "  0%|                                                   | 0/40 [00:00<?, ?it/s]"
     ]
    },
    {
     "name": "stdout",
     "output_type": "stream",
     "text": [
      "        train: 48000 (68.6%)\n",
      "        val: 12000 (17.1%)\n",
      "        test: 10000 (14.3%)\n",
      "        total: 70000\n",
      "    total this instance: 70000\n",
      "    keys consistent: True\n",
      "batch splits:\n",
      "    split stash splits:\n",
      "        train: 2400 (68.6%)\n",
      "        val: 600 (17.1%)\n",
      "        test: 500 (14.3%)\n",
      "        total: 3500\n",
      "    total this instance: 3500\n",
      "    keys consistent: True\n"
     ]
    },
    {
     "name": "stderr",
     "output_type": "stream",
     "text": [
      "train: 0.428|valid: 1.192/1.184 /\\: 100%|██████| 40/40 [03:19<00:00,  4.99s/it]\n"
     ]
    },
    {
     "data": {
      "text/plain": [
       "mnist.model.MnistNetwork (2)"
      ]
     },
     "execution_count": 5,
     "metadata": {},
     "output_type": "execute_result"
    }
   ],
   "source": [
    "# train again using the new optimizer\n",
    "facade.train(desc)"
   ]
  },
  {
   "cell_type": "code",
   "execution_count": 6,
   "metadata": {},
   "outputs": [
    {
     "name": "stdout",
     "output_type": "stream",
     "text": [
      "Name: 2: switch to SGD\n",
      "Run index: 2\n",
      "Learning rate: 0.01\n",
      "    train:\n",
      "        started: 06/17/2020 18:36:30:834410\n",
      "        ended: 06/17/2020 18:39:50:396534\n",
      "        epochs: 40\n",
      "        batches: 2400\n",
      "        ave data points: 20.0\n",
      "        average loss: 0.0008663536071786237\n",
      "        min loss: 0.0034694670466706157\n",
      "        epoch converged: 38\n",
      "        num outcomes: 1920000\n",
      "        micro: F1: 0.971, precision: 0.97, recall: 0.97\n",
      "        macro: F1: 0.970, precision: 0.97, recall: 0.97\n",
      "    validation:\n",
      "        epochs: 40\n",
      "        batches: 600\n",
      "        ave data points: 20.0\n",
      "        average loss: 0.003298307511943758\n",
      "        min loss: 0.0015392302884720266\n",
      "        epoch converged: 37\n",
      "        num outcomes: 480000\n",
      "        micro: F1: 0.970, precision: 0.97, recall: 0.97\n",
      "        macro: F1: 0.969, precision: 0.97, recall: 0.97\n",
      "    test:\n",
      "        started: 06/17/2020 18:40:03:313775\n",
      "        ended: 06/17/2020 18:40:03:510840\n",
      "        epochs: 1\n",
      "        batches: 500\n",
      "        ave data points: 20.0\n",
      "        average loss: 0.002252777854890228\n",
      "        min loss: 0.00020885467165498994\n",
      "        epoch converged: 0\n",
      "        num outcomes: 10000\n",
      "        micro: F1: 0.983, precision: 0.98, recall: 0.98\n",
      "        macro: F1: 0.982, precision: 0.98, recall: 0.98\n"
     ]
    }
   ],
   "source": [
    "# rerun the test after the second training\n",
    "with_sgd_res = facade.test(desc)"
   ]
  },
  {
   "cell_type": "code",
   "execution_count": 7,
   "metadata": {
    "scrolled": true
   },
   "outputs": [
    {
     "data": {
      "image/png": "[encoded data removed]",
      "text/plain": [
       "<Figure size 1080x360 with 2 Axes>"
      ]
     },
     "metadata": {
      "needs_background": "light"
     },
     "output_type": "display_data"
    }
   ],
   "source": [
    "# plot the results\n",
    "facade.plot([default_res, with_sgd_res])"
   ]
  }
 ],
 "metadata": {
  "kernelspec": {
   "display_name": "Python 3",
   "language": "python",
   "name": "python3"
  },
  "language_info": {
   "codemirror_mode": {
    "name": "ipython",
    "version": 3
   },
   "file_extension": ".py",
   "mimetype": "text/x-python",
   "name": "python",
   "nbconvert_exporter": "python",
   "pygments_lexer": "ipython3",
   "version": "3.7.4"
  }
 },
 "nbformat": 4,
 "nbformat_minor": 4
}
