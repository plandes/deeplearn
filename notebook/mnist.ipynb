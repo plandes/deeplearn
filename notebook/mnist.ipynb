{
 "cells": [
  {
   "cell_type": "markdown",
   "metadata": {},
   "source": [
    "# Deep learning framework example: MNIST dataset\n",
    "\n",
    "This notebook demonstrates how to use the deeplearning API to train and test the model on the [MNIST dataset](http://yann.lecun.com/exdb/mnist/).  This dataset contains hand written digits and their labels.\n",
    "\n",
    "\n",
    "**Important**: Please see the Iris notebook example first, as it contains more explaination of how the framework is used.  The purpose of this notebook is to run the MNIST dataset and visualize the results."
   ]
  },
  {
   "cell_type": "code",
   "execution_count": 1,
   "metadata": {},
   "outputs": [],
   "source": [
    "import sys\n",
    "import logging\n",
    "from zensols.config import ExtendedInterpolationEnvConfig as AppConfig\n",
    "from zensols.config import ImportConfigFactory\n",
    "from zensols.deeplearn.result import ModelResultGrapher\n",
    "from zensols.deeplearn import TorchConfig\n",
    "\n",
    "# set up notebook environment\n",
    "app_root_dir = '..'\n",
    "sys.path.append(app_root_dir + '/src/python')\n",
    "sys.path.append(app_root_dir + '/test/python')\n",
    "\n",
    "# set the random seed so things are predictable\n",
    "TorchConfig.set_random_seed()\n",
    "\n",
    "# configure the environment\n",
    "config = AppConfig(app_root_dir + '/test-resources/mnist/mnist.conf',\n",
    "                   env={'app_root': app_root_dir})"
   ]
  },
  {
   "cell_type": "markdown",
   "metadata": {},
   "source": [
    "## Create the model facade\n",
    "\n",
    "Create the facade with a factory, which in turn creates the executor.  The statistics on the data set that is configured on the executor is, by default, printed to standard out.  You can set the `writer` property to `None` on the facade to disable this."
   ]
  },
  {
   "cell_type": "code",
   "execution_count": 2,
   "metadata": {},
   "outputs": [
    {
     "name": "stderr",
     "output_type": "stream",
     "text": [
      "2020-09-03 18:28:34,375[INFO]zensols.deeplearn.model.facade: creating new executor\n"
     ]
    }
   ],
   "source": [
    "from zensols.deeplearn.model import ModelFacade\n",
    "facade = ModelFacade(config)\n",
    "# configure the logging system using the facade configuration making WARNING the default (root) level\n",
    "facade.configure_jupyter()"
   ]
  },
  {
   "cell_type": "markdown",
   "metadata": {},
   "source": [
    "## Train and test the model\n",
    "\n",
    "This trains the model on the Iris (flower) data set and prints the results.  The PyTorch model itself is also printed.\n",
    "\n",
    "Note that in this step, all batches are loaded and logged.  This example shows that with `cache_executor` and `cache_batches` set to `True`, batches are not reloaded.  This saves time in terms of allocating, decoding and then deallocating CPU/GPU memory, especially when tuning hyperparameters and re-running for large datasets."
   ]
  },
  {
   "cell_type": "code",
   "execution_count": 3,
   "metadata": {},
   "outputs": [
    {
     "name": "stderr",
     "output_type": "stream",
     "text": [
      "2020-09-03 18:28:34,685[INFO]zensols.deeplearn.model.executor.status: resetting executor\n",
      "2020-09-03 18:28:34,686[INFO]zensols.deeplearn.model.facade: training...\n",
      "2020-09-03 18:28:42,369[INFO]zensols.multi.stash: mnist_batch_dataframe_stash: spawning work with chunk size 438 across 8 workers\n",
      "2020-09-03 18:28:42,455[INFO]zensols.multi.stash: factory inst mnist_batch_dataframe_stash for chunk 0 in 0s\n",
      "2020-09-03 18:28:42,457[INFO]zensols.multi.stash: processing chunk 0 with stash <class 'zensols.deeplearn.batch.stash.BatchStash'>\n",
      "2020-09-03 18:28:42,457[INFO]zensols.multi.stash: factory inst mnist_batch_dataframe_stash for chunk 1 in 0s\n",
      "2020-09-03 18:28:42,460[INFO]zensols.multi.stash: processing chunk 1 with stash <class 'zensols.deeplearn.batch.stash.BatchStash'>\n",
      "2020-09-03 18:28:42,461[INFO]zensols.multi.stash: factory inst mnist_batch_dataframe_stash for chunk 2 in 0s\n",
      "2020-09-03 18:28:42,466[INFO]zensols.multi.stash: processing chunk 2 with stash <class 'zensols.deeplearn.batch.stash.BatchStash'>\n",
      "2020-09-03 18:28:42,468[INFO]zensols.multi.stash: factory inst mnist_batch_dataframe_stash for chunk 3 in 0s\n",
      "2020-09-03 18:28:42,473[INFO]zensols.multi.stash: factory inst mnist_batch_dataframe_stash for chunk 4 in 0s\n",
      "2020-09-03 18:28:42,471[INFO]zensols.multi.stash: processing chunk 3 with stash <class 'zensols.deeplearn.batch.stash.BatchStash'>\n",
      "2020-09-03 18:28:42,477[INFO]zensols.multi.stash: processing chunk 4 with stash <class 'zensols.deeplearn.batch.stash.BatchStash'>\n",
      "2020-09-03 18:28:42,480[INFO]zensols.multi.stash: factory inst mnist_batch_dataframe_stash for chunk 5 in 0s\n",
      "2020-09-03 18:28:42,499[INFO]zensols.multi.stash: factory inst mnist_batch_dataframe_stash for chunk 6 in 0s\n",
      "2020-09-03 18:28:42,509[INFO]zensols.multi.stash: processing chunk 6 with stash <class 'zensols.deeplearn.batch.stash.BatchStash'>\n",
      "2020-09-03 18:28:42,518[INFO]zensols.multi.stash: processing chunk 5 with stash <class 'zensols.deeplearn.batch.stash.BatchStash'>\n",
      "2020-09-03 18:28:42,518[INFO]zensols.multi.stash: factory inst mnist_batch_dataframe_stash for chunk 7 in 0s\n",
      "2020-09-03 18:28:42,528[INFO]zensols.multi.stash: processing chunk 7 with stash <class 'zensols.deeplearn.batch.stash.BatchStash'>\n",
      "2020-09-03 18:28:44,888[INFO]zensols.multi.stash: processed 438 items for chunk 0 in 2s\n",
      "2020-09-03 18:28:44,905[INFO]zensols.multi.stash: processed 438 items for chunk 1 in 2s\n",
      "2020-09-03 18:28:44,892[INFO]zensols.multi.stash: processed chunk mnist_batch_dataframe_stash (0): data: DataPointIDSet in 2s\n",
      "2020-09-03 18:28:44,909[INFO]zensols.multi.stash: processed chunk mnist_batch_dataframe_stash (1): data: DataPointIDSet in 2s\n",
      "2020-09-03 18:28:44,907[INFO]zensols.multi.stash: processed 438 items for chunk 3 in 2s\n",
      "2020-09-03 18:28:44,913[INFO]zensols.multi.stash: processed chunk mnist_batch_dataframe_stash (3): data: DataPointIDSet in 2s\n",
      "2020-09-03 18:28:44,920[INFO]zensols.multi.stash: processed 434 items for chunk 7 in 2s\n",
      "2020-09-03 18:28:44,922[INFO]zensols.multi.stash: processed chunk mnist_batch_dataframe_stash (7): data: DataPointIDSet in 2s\n",
      "2020-09-03 18:28:44,925[INFO]zensols.multi.stash: processed 438 items for chunk 4 in 2s\n",
      "2020-09-03 18:28:44,925[INFO]zensols.multi.stash: processed 438 items for chunk 5 in 2s\n",
      "2020-09-03 18:28:44,926[INFO]zensols.multi.stash: processed 438 items for chunk 2 in 2s\n",
      "2020-09-03 18:28:44,928[INFO]zensols.multi.stash: processed chunk mnist_batch_dataframe_stash (4): data: DataPointIDSet in 2s\n",
      "2020-09-03 18:28:44,928[INFO]zensols.multi.stash: processed chunk mnist_batch_dataframe_stash (5): data: DataPointIDSet in 2s\n",
      "2020-09-03 18:28:44,929[INFO]zensols.multi.stash: processed chunk mnist_batch_dataframe_stash (2): data: DataPointIDSet in 2s\n",
      "2020-09-03 18:28:44,950[INFO]zensols.multi.stash: processed 438 items for chunk 6 in 2s\n",
      "2020-09-03 18:28:44,952[INFO]zensols.multi.stash: processed chunk mnist_batch_dataframe_stash (6): data: DataPointIDSet in 2s\n",
      "2020-09-03 18:28:44,953[INFO]zensols.multi.stash: processed chunks in 2s\n",
      "2020-09-03 18:28:45,190[INFO]zensols.multi.stash: completed work in BatchStash in 2s\n",
      "2020-09-03 18:28:45,375[INFO]zensols.deeplearn.model.executor.status: batch iteration: gpu, limit: 9223372036854775807, caching: True, cached: 0\n",
      "2020-09-03 18:28:50,813[INFO]zensols.deeplearn.model.executor.status: loaded 3000 batches in 5s\n",
      "2020-09-03 18:28:50,814[INFO]zensols.deeplearn.model.executor.status: train/test sets: 2400 600\n",
      "2020-09-03 18:28:50,819[INFO]zensols.deeplearn.model.executor.status: created model on cpu with use cuda: True, device: cuda:0\n",
      "2020-09-03 18:28:50,821[INFO]zensols.deeplearn.model.executor.status: training model <class 'mnist.model.MnistNetwork'> on cuda:0 for 40 epochs using learning rate 0.01\n",
      "  0%|                                                                                            | 0/40 [00:00<?, ?it/s]2020-09-03 18:28:50,823[INFO]zensols.deeplearn.model.executor.status: watching update file None\n",
      "tr:7.606|va min:4.514|va:8.885 /\\: 100%|████████████████████████████████████████████████| 40/40 [02:53<00:00,  4.32s/it]2020-09-03 18:31:44,016[INFO]zensols.deeplearn.model.executor.status: epoch threshold reached at 40\n",
      "2020-09-03 18:31:44,017[INFO]zensols.deeplearn.model.executor.status: final minimum validation loss: 4.513958633505778, 3 decreases\n",
      "2020-09-03 18:31:50,456[INFO]zensols.deeplearn.model.executor.status: executed train in 2 minutes, 59s\n",
      "2020-09-03 18:31:50,457[INFO]zensols.deeplearn.model.executor.status: deallocating 3000 batches\n",
      "tr:7.606|va min:4.514|va:8.885 /\\: 100%|████████████████████████████████████████████████| 40/40 [02:59<00:00,  4.49s/it]\n",
      "2020-09-03 18:31:50,656[INFO]zensols.deeplearn.model.facade: trained in 3 minutes, 15s\n",
      "2020-09-03 18:31:50,661[INFO]zensols.deeplearn.model.executor.status: reloading model weights\n",
      "2020-09-03 18:31:50,665[INFO]zensols.deeplearn.model.executor.status: created model on cpu with use cuda: True, device: cuda:0\n",
      "2020-09-03 18:31:53,999[INFO]zensols.deeplearn.model.facade: testing...\n",
      "2020-09-03 18:31:54,000[INFO]zensols.deeplearn.model.executor.status: batch iteration: gpu, limit: 9223372036854775807, caching: True, cached: 1\n",
      "2020-09-03 18:31:54,453[INFO]zensols.deeplearn.model.executor.status: loaded 500 batches in 0s\n",
      "2020-09-03 18:31:54,454[INFO]zensols.deeplearn.model.executor.status: train/test sets: 500\n",
      "2020-09-03 18:31:54,456[INFO]zensols.deeplearn.model.executor.status: testing model <class 'mnist.model.MnistNetwork'> on cuda:0\n",
      "2020-09-03 18:31:54,689[INFO]zensols.deeplearn.model.executor.status: executed test in 0s\n",
      "2020-09-03 18:31:54,690[INFO]zensols.deeplearn.model.executor.status: deallocating 500 batches\n",
      "2020-09-03 18:31:54,725[INFO]zensols.deeplearn.model.facade: trained in 0s\n",
      "2020-09-03 18:31:54,726[INFO]zensols.deeplearn.model.facade: load previous results\n"
     ]
    },
    {
     "name": "stdout",
     "output_type": "stream",
     "text": [
      "Name: 2: Default (adam)\n",
      "Run index: 2\n",
      "Learning rate: 0.01\n",
      "    train:\n",
      "        started: 09/03/2020 18:28:50:824554\n",
      "        ended: 09/03/2020 18:31:44:018322\n",
      "        batches: 2400\n",
      "        ave data points per batch: 20.0\n",
      "        converged/epochs: 37/40\n",
      "        ave/min loss: 6.25117/0.00003\n",
      "        accuracy: 0.925 (44402/48000)\n",
      "        micro: F1: 0.925, precision: 0.925, recall: 0.925\n",
      "        macro: F1: 0.925, precision: 0.928, recall: 0.924\n",
      "    validation:\n",
      "        batches: 600\n",
      "        ave data points per batch: 20.0\n",
      "        converged/epochs: 6/40\n",
      "        ave/min loss: 4.51396/0.00659\n",
      "        accuracy: 0.941 (11288/12000)\n",
      "        micro: F1: 0.941, precision: 0.941, recall: 0.941\n",
      "        macro: F1: 0.941, precision: 0.944, recall: 0.939\n",
      "    test:\n",
      "        started: 09/03/2020 18:31:54:456918\n",
      "        ended: 09/03/2020 18:31:54:689583\n",
      "        batches: 500\n",
      "        ave data points per batch: 20.0\n",
      "        converged/epochs: 1/1\n",
      "        ave/min loss: 5.09923/0.00010\n",
      "        accuracy: 0.942 (9417/10000)\n",
      "        micro: F1: 0.942, precision: 0.942, recall: 0.942\n",
      "        macro: F1: 0.941, precision: 0.944, recall: 0.941\n"
     ]
    }
   ],
   "source": [
    "facade.train()\n",
    "default_res = facade.test('Default (adam)')\n",
    "facade.write_result()"
   ]
  },
  {
   "cell_type": "markdown",
   "metadata": {},
   "source": [
    "## Switch to stochastic gradient descent from the default (adam).\n",
    "\n",
    "For this task, the (older) stochastic gradient descent algorithm works better."
   ]
  },
  {
   "cell_type": "code",
   "execution_count": 4,
   "metadata": {},
   "outputs": [
    {
     "name": "stderr",
     "output_type": "stream",
     "text": [
      "2020-09-03 18:31:54,930[INFO]zensols.deeplearn.model.executor.status: resetting executor\n",
      "2020-09-03 18:31:54,931[INFO]zensols.deeplearn.model.facade: training...\n",
      "2020-09-03 18:31:54,932[INFO]zensols.deeplearn.model.executor.status: batch iteration: gpu, limit: 9223372036854775807, caching: True, cached: 2\n",
      "2020-09-03 18:31:54,933[INFO]zensols.deeplearn.model.executor.status: train/test sets: 2400 600\n",
      "2020-09-03 18:31:54,937[INFO]zensols.deeplearn.model.executor.status: created model on cpu with use cuda: True, device: cuda:0\n",
      "2020-09-03 18:31:54,939[INFO]zensols.deeplearn.model.executor.status: training model <class 'mnist.model.MnistNetwork'> on cuda:0 for 40 epochs using learning rate 0.01\n",
      "  0%|                                                                                            | 0/40 [00:00<?, ?it/s]2020-09-03 18:31:54,941[INFO]zensols.deeplearn.model.executor.status: watching update file None\n",
      "tr:0.388|va min:1.180|va:1.167 \\/: 100%|████████████████████████████████████████████████| 40/40 [03:25<00:00,  6.06s/it]2020-09-03 18:35:19,961[INFO]zensols.deeplearn.model.executor.status: epoch threshold reached at 40\n",
      "2020-09-03 18:35:19,962[INFO]zensols.deeplearn.model.executor.status: final minimum validation loss: 1.1673792567882628, 32 decreases\n",
      "2020-09-03 18:35:29,389[INFO]zensols.deeplearn.model.executor.status: executed train in 3 minutes, 34s\n",
      "2020-09-03 18:35:29,390[INFO]zensols.deeplearn.model.executor.status: deallocating 0 batches\n",
      "2020-09-03 18:35:29,390[INFO]zensols.deeplearn.model.facade: trained in 3 minutes, 34s\n"
     ]
    },
    {
     "data": {
      "text/plain": [
       "mnist.model.MnistNetwork (2)"
      ]
     },
     "execution_count": 4,
     "metadata": {},
     "output_type": "execute_result"
    }
   ],
   "source": [
    "# update the parameters\n",
    "facade.executor.model_settings.optimizer_class_name = 'torch.optim.SGD'\n",
    "# used in titles for plots later\n",
    "desc = 'Switched to SGD'\n",
    "# train again using the new optimizer\n",
    "facade.train(desc)"
   ]
  },
  {
   "cell_type": "code",
   "execution_count": 5,
   "metadata": {},
   "outputs": [
    {
     "name": "stderr",
     "output_type": "stream",
     "text": [
      "2020-09-03 18:35:29,399[INFO]zensols.deeplearn.model.executor.status: reloading model weights\n",
      "2020-09-03 18:35:29,404[INFO]zensols.deeplearn.model.executor.status: created model on cpu with use cuda: True, device: cuda:0\n",
      "tr:0.388|va min:1.180|va:1.167 \\/: 100%|████████████████████████████████████████████████| 40/40 [03:34<00:00,  5.36s/it]\n",
      "2020-09-03 18:35:33,009[INFO]zensols.deeplearn.model.facade: testing...\n",
      "2020-09-03 18:35:33,010[INFO]zensols.deeplearn.model.executor.status: batch iteration: gpu, limit: 9223372036854775807, caching: True, cached: 2\n",
      "2020-09-03 18:35:33,010[INFO]zensols.deeplearn.model.executor.status: train/test sets: 500\n",
      "2020-09-03 18:35:33,012[INFO]zensols.deeplearn.model.executor.status: testing model <class 'mnist.model.MnistNetwork'> on cuda:0\n",
      "2020-09-03 18:35:33,245[INFO]zensols.deeplearn.model.executor.status: executed test in 0s\n",
      "2020-09-03 18:35:33,246[INFO]zensols.deeplearn.model.executor.status: deallocating 0 batches\n",
      "2020-09-03 18:35:33,246[INFO]zensols.deeplearn.model.facade: trained in 0s\n",
      "2020-09-03 18:35:33,247[INFO]zensols.deeplearn.model.facade: load previous results\n"
     ]
    },
    {
     "name": "stdout",
     "output_type": "stream",
     "text": [
      "Name: 2: Switched to SGD\n",
      "Run index: 2\n",
      "Learning rate: 0.01\n",
      "    train:\n",
      "        started: 09/03/2020 18:31:54:941679\n",
      "        ended: 09/03/2020 18:35:19:963153\n",
      "        batches: 2400\n",
      "        ave data points per batch: 20.0\n",
      "        converged/epochs: 40/40\n",
      "        ave/min loss: 0.38791/0.00249\n",
      "        accuracy: 0.995 (47754/48000)\n",
      "        micro: F1: 0.995, precision: 0.995, recall: 0.995\n",
      "        macro: F1: 0.995, precision: 0.995, recall: 0.995\n",
      "    validation:\n",
      "        batches: 600\n",
      "        ave data points per batch: 20.0\n",
      "        converged/epochs: 40/40\n",
      "        ave/min loss: 1.16738/0.00176\n",
      "        accuracy: 0.982 (11780/12000)\n",
      "        micro: F1: 0.982, precision: 0.982, recall: 0.982\n",
      "        macro: F1: 0.981, precision: 0.981, recall: 0.981\n",
      "    test:\n",
      "        started: 09/03/2020 18:35:33:013252\n",
      "        ended: 09/03/2020 18:35:33:245605\n",
      "        batches: 500\n",
      "        ave data points per batch: 20.0\n",
      "        converged/epochs: 1/1\n",
      "        ave/min loss: 1.15143/0.00016\n",
      "        accuracy: 0.981 (9805/10000)\n",
      "        micro: F1: 0.981, precision: 0.981, recall: 0.981\n",
      "        macro: F1: 0.980, precision: 0.980, recall: 0.980\n"
     ]
    }
   ],
   "source": [
    "# rerun the test after the second training\n",
    "with_sgd_res = facade.test(desc)\n",
    "facade.write_result()"
   ]
  },
  {
   "cell_type": "code",
   "execution_count": 6,
   "metadata": {
    "scrolled": true
   },
   "outputs": [
    {
     "data": {
      "image/png": "[encoded data removed]",
      "text/plain": [
       "<Figure size 1080x360 with 2 Axes>"
      ]
     },
     "metadata": {
      "needs_background": "light"
     },
     "output_type": "display_data"
    }
   ],
   "source": [
    "# plot the results\n",
    "facade.result_manager.get_grapher().plot([default_res, with_sgd_res])"
   ]
  }
 ],
 "metadata": {
  "kernelspec": {
   "display_name": "Python 3",
   "language": "python",
   "name": "python3"
  },
  "language_info": {
   "codemirror_mode": {
    "name": "ipython",
    "version": 3
   },
   "file_extension": ".py",
   "mimetype": "text/x-python",
   "name": "python",
   "nbconvert_exporter": "python",
   "pygments_lexer": "ipython3",
   "version": "3.7.4"
  }
 },
 "nbformat": 4,
 "nbformat_minor": 4
}
