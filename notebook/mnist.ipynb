{
 "cells": [
  {
   "cell_type": "markdown",
   "metadata": {},
   "source": [
    "# Deep learning framework example: MNIST dataset\n",
    "\n",
    "This notebook demonstrates how to use the deeplearning API to train and test the model on the [MNIST dataset](http://yann.lecun.com/exdb/mnist/).  This dataset contains hand written digits and their labels.\n",
    "\n",
    "\n",
    "**Important**: Please see the Iris notebook example first, as it contains more explaination of how the framework is used.  The purpose of this notebook is to run the MNIST dataset and visualize the results."
   ]
  },
  {
   "cell_type": "code",
   "execution_count": 1,
   "metadata": {},
   "outputs": [],
   "source": [
    "# set up notebook environment\n",
    "import sys\n",
    "app_root_dir = '..'\n",
    "sys.path.append(app_root_dir + '/src/python')\n",
    "sys.path.append(app_root_dir + '/test/python')"
   ]
  },
  {
   "cell_type": "code",
   "execution_count": 2,
   "metadata": {},
   "outputs": [],
   "source": [
    "import logging\n",
    "from zensols.config import ExtendedInterpolationEnvConfig as AppConfig\n",
    "from zensols.config import ImportConfigFactory\n",
    "from zensols.deeplearn.result import ModelResultGrapher\n",
    "from zensols.deeplearn import TorchConfig\n",
    "\n",
    "# initialze PyTorch and set the random seed so things are predictable\n",
    "TorchConfig.init()\n",
    "\n",
    "# configure the environment\n",
    "config = AppConfig(app_root_dir + '/test-resources/mnist/mnist.conf', env={'app_root': app_root_dir})"
   ]
  },
  {
   "cell_type": "markdown",
   "metadata": {},
   "source": [
    "## Create the model facade\n",
    "\n",
    "Create the facade with a factory, which in turn creates the executor.  The statistics on the data set that is configured on the executor is, by default, printed to standard out.  You can set the `writer` property to `None` on the facade to disable this."
   ]
  },
  {
   "cell_type": "code",
   "execution_count": 3,
   "metadata": {},
   "outputs": [
    {
     "name": "stderr",
     "output_type": "stream",
     "text": [
      "2021-05-08 11:09:43,199[INFO]zensols.deeplearn.model.facade: creating new executor\n"
     ]
    }
   ],
   "source": [
    "from zensols.deeplearn.model import ModelFacade\n",
    "facade = ModelFacade(config)\n",
    "# configure the logging system using the facade configuration making WARNING the default (root) level\n",
    "facade.configure_jupyter()"
   ]
  },
  {
   "cell_type": "markdown",
   "metadata": {},
   "source": [
    "## Train and test the model\n",
    "\n",
    "This trains the model on the Iris (flower) data set and prints the results.  The PyTorch model itself is also printed.\n",
    "\n",
    "Note that in this step, all batches are loaded and logged.  This example shows that with `cache_executor` and `cache_batches` set to `True`, batches are not reloaded.  This saves time in terms of allocating, decoding and then deallocating CPU/GPU memory, especially when tuning hyperparameters and re-running for large datasets."
   ]
  },
  {
   "cell_type": "code",
   "execution_count": 4,
   "metadata": {},
   "outputs": [
    {
     "name": "stderr",
     "output_type": "stream",
     "text": [
      "2021-05-08 11:09:43,439[INFO]zensols.deeplearn.model.executor.status: resetting executor\n",
      "2021-05-08 11:09:43,440[INFO]zensols.deeplearn.model.facade: training...\n",
      "2021-05-08 11:09:50,643[INFO]zensols.deeplearn.batch.multi: mnist_batch_dataframe_stash: spawning work with chunk size 438 across 8 workers\n",
      "2021-05-08 11:09:50,785[INFO]zensols.deeplearn.batch.multi: using torch multiproc pool: <multiprocessing.pool.Pool state=RUN pool_size=8>\n",
      "2021-05-08 11:10:06,971[INFO]zensols.deeplearn.batch.multi: processed chunks in 16s\n",
      "2021-05-08 11:10:07,222[INFO]zensols.multi.stash: completed work in BatchStash in 16s\n",
      "2021-05-08 11:10:07,402[INFO]zensols.deeplearn.model.executor.status: batch iteration: gpu, limit: 9223372036854775807, caching: True, cached: 0\n",
      "2021-05-08 11:10:07,403[INFO]zensols.deeplearn.model.executor.status: preparing datasets using iteration: gpu\n",
      "2021-05-08 11:10:11,823[INFO]zensols.deeplearn.model.executor.status: loaded 3000 batches in 4s\n",
      "2021-05-08 11:10:11,824[INFO]zensols.deeplearn.model.executor.status: train/test sets: 2400 600\n",
      "2021-05-08 11:10:11,830[INFO]zensols.deeplearn.model.executor.status: created model on cpu with use cuda: True, device: cuda:0\n",
      "2021-05-08 11:10:11,832[INFO]zensols.deeplearn.model.executor.status: training model <class 'mnist.model.MnistNetwork'> on cuda:0 for 40 epochs using learning rate 0.01\n",
      "  0%|                                                                                            | 0/40 [00:00<?, ?it/s]2021-05-08 11:10:11,835[INFO]zensols.deeplearn.model.executor.status: watching update file None\n",
      "tr:7.245|va min:5.380|va:8.377 /\\: 100%|████████████████████████████████████████████████| 40/40 [02:30<00:00,  3.74s/it]2021-05-08 11:12:42,229[INFO]zensols.deeplearn.model.executor.status: epoch threshold reached at 40\n",
      "2021-05-08 11:12:42,230[INFO]zensols.deeplearn.model.executor.status: final minimum validation loss: 5.379930185653696, 3 decreases\n",
      "2021-05-08 11:12:47,981[INFO]zensols.deeplearn.model.executor.status: executed train in 2 minutes, 36s\n",
      "2021-05-08 11:12:47,982[INFO]zensols.deeplearn.model.executor.status: deallocating 3000 batches\n",
      "tr:7.245|va min:5.380|va:8.377 /\\: 100%|████████████████████████████████████████████████| 40/40 [02:36<00:00,  3.90s/it]\n",
      "2021-05-08 11:12:48,184[INFO]zensols.deeplearn.model.facade: trained in 3 minutes, 4s\n",
      "2021-05-08 11:12:48,186[INFO]zensols.deeplearn.model.executor.status: reloading model weights\n",
      "2021-05-08 11:12:48,191[INFO]zensols.deeplearn.model.executor.status: created model on cpu with use cuda: True, device: cuda:0\n",
      "2021-05-08 11:12:53,657[INFO]zensols.deeplearn.model.facade: testing...\n",
      "2021-05-08 11:12:53,658[INFO]zensols.deeplearn.model.executor.status: batch iteration: gpu, limit: 9223372036854775807, caching: True, cached: 1\n",
      "2021-05-08 11:12:53,659[INFO]zensols.deeplearn.model.executor.status: preparing datasets using iteration: gpu\n",
      "2021-05-08 11:12:54,046[INFO]zensols.deeplearn.model.executor.status: loaded 500 batches in 0s\n",
      "2021-05-08 11:12:54,047[INFO]zensols.deeplearn.model.executor.status: train/test sets: 500\n",
      "2021-05-08 11:12:54,049[INFO]zensols.deeplearn.model.executor.status: testing model <class 'mnist.model.MnistNetwork'> on cuda:0\n",
      "2021-05-08 11:12:54,260[INFO]zensols.deeplearn.model.executor.status: executed test in 0s\n",
      "2021-05-08 11:12:54,261[INFO]zensols.deeplearn.model.executor.status: deallocating 500 batches\n",
      "2021-05-08 11:12:54,295[INFO]zensols.deeplearn.model.facade: trained in 0s\n",
      "2021-05-08 11:12:54,296[INFO]zensols.deeplearn.model.facade: load previous results\n"
     ]
    },
    {
     "name": "stdout",
     "output_type": "stream",
     "text": [
      "Name: 2: Default (adam)\n",
      "Run index: 2\n",
      "Learning rate: 0.01\n",
      "    train:\n",
      "        started: 05/08/2021 11:10:11:835939\n",
      "        ended: 05/08/2021 11:12:42:231260\n",
      "        batches: 2400\n",
      "        ave data points per batch/total: 20.0/48000\n",
      "        converged/epochs: 39/40\n",
      "        ave/min loss: 6.89459/0.00007\n",
      "        accuracy: 0.917 (44039/48000)\n",
      "        micro: F1: 0.917, precision: 0.917, recall: 0.917\n",
      "        macro: F1: 0.918, precision: 0.925, recall: 0.916\n",
      "        weighted: F1: 0.919, precision: 0.926, recall: 0.917\n",
      "    validation:\n",
      "        batches: 600\n",
      "        ave data points per batch/total: 20.0/12000\n",
      "        converged/epochs: 4/40\n",
      "        ave/min loss: 5.37993/0.00897\n",
      "        accuracy: 0.931 (11172/12000)\n",
      "        micro: F1: 0.931, precision: 0.931, recall: 0.931\n",
      "        macro: F1: 0.930, precision: 0.930, recall: 0.930\n",
      "        weighted: F1: 0.931, precision: 0.931, recall: 0.931\n",
      "    test:\n",
      "        started: 05/08/2021 11:12:54:049635\n",
      "        ended: 05/08/2021 11:12:54:260617\n",
      "        batches: 500\n",
      "        ave data points per batch/total: 20.0/10000\n",
      "        converged/epochs: 1/1\n",
      "        ave/min loss: 5.60615/0.00547\n",
      "        accuracy: 0.933 (9334/10000)\n",
      "        micro: F1: 0.933, precision: 0.933, recall: 0.933\n",
      "        macro: F1: 0.933, precision: 0.933, recall: 0.932\n",
      "        weighted: F1: 0.933, precision: 0.934, recall: 0.933\n"
     ]
    }
   ],
   "source": [
    "facade.train()\n",
    "default_res = facade.test('Default (adam)')\n",
    "facade.write_result()"
   ]
  },
  {
   "cell_type": "markdown",
   "metadata": {},
   "source": [
    "## Switch to stochastic gradient descent from the default (adam).\n",
    "\n",
    "For this task, the (older) stochastic gradient descent algorithm works better."
   ]
  },
  {
   "cell_type": "code",
   "execution_count": 5,
   "metadata": {},
   "outputs": [
    {
     "name": "stderr",
     "output_type": "stream",
     "text": [
      "2021-05-08 11:12:54,585[INFO]zensols.deeplearn.model.executor.status: resetting executor\n",
      "2021-05-08 11:12:54,586[INFO]zensols.deeplearn.model.facade: training...\n",
      "2021-05-08 11:12:54,587[INFO]zensols.deeplearn.model.executor.status: batch iteration: gpu, limit: 9223372036854775807, caching: True, cached: 2\n",
      "2021-05-08 11:12:54,588[INFO]zensols.deeplearn.model.executor.status: train/test sets: 2400 600\n",
      "2021-05-08 11:12:54,592[INFO]zensols.deeplearn.model.executor.status: created model on cpu with use cuda: True, device: cuda:0\n",
      "2021-05-08 11:12:54,594[INFO]zensols.deeplearn.model.executor.status: training model <class 'mnist.model.MnistNetwork'> on cuda:0 for 40 epochs using learning rate 0.01\n",
      "  0%|                                                                                            | 0/40 [00:00<?, ?it/s]2021-05-08 11:12:54,596[INFO]zensols.deeplearn.model.executor.status: watching update file None\n",
      "tr:0.379|va min:1.209|va:1.237 /\\: 100%|████████████████████████████████████████████████| 40/40 [03:14<00:00,  5.83s/it]2021-05-08 11:16:09,578[INFO]zensols.deeplearn.model.executor.status: epoch threshold reached at 40\n",
      "2021-05-08 11:16:09,578[INFO]zensols.deeplearn.model.executor.status: final minimum validation loss: 1.2087977795689464, 33 decreases\n",
      "2021-05-08 11:16:20,349[INFO]zensols.deeplearn.model.executor.status: executed train in 3 minutes, 25s\n",
      "2021-05-08 11:16:20,350[INFO]zensols.deeplearn.model.executor.status: deallocating 0 batches\n",
      "2021-05-08 11:16:20,351[INFO]zensols.deeplearn.model.facade: trained in 3 minutes, 25s\n"
     ]
    },
    {
     "data": {
      "text/plain": [
       "mnist.model.MnistNetwork (2)"
      ]
     },
     "execution_count": 5,
     "metadata": {},
     "output_type": "execute_result"
    }
   ],
   "source": [
    "# update the parameters\n",
    "facade.executor.model_settings.optimizer_class_name = 'torch.optim.SGD'\n",
    "# used in titles for plots later\n",
    "desc = 'Switched to SGD'\n",
    "# train again using the new optimizer\n",
    "facade.train(desc)"
   ]
  },
  {
   "cell_type": "code",
   "execution_count": 6,
   "metadata": {},
   "outputs": [
    {
     "name": "stderr",
     "output_type": "stream",
     "text": [
      "2021-05-08 11:16:20,362[INFO]zensols.deeplearn.model.executor.status: reloading model weights\n",
      "2021-05-08 11:16:20,367[INFO]zensols.deeplearn.model.executor.status: created model on cpu with use cuda: True, device: cuda:0\n",
      "tr:0.379|va min:1.209|va:1.237 /\\: 100%|████████████████████████████████████████████████| 40/40 [03:25<00:00,  5.15s/it]\n",
      "2021-05-08 11:16:26,203[INFO]zensols.deeplearn.model.facade: testing...\n",
      "2021-05-08 11:16:26,204[INFO]zensols.deeplearn.model.executor.status: batch iteration: gpu, limit: 9223372036854775807, caching: True, cached: 2\n",
      "2021-05-08 11:16:26,205[INFO]zensols.deeplearn.model.executor.status: train/test sets: 500\n",
      "2021-05-08 11:16:26,206[INFO]zensols.deeplearn.model.executor.status: testing model <class 'mnist.model.MnistNetwork'> on cuda:0\n",
      "2021-05-08 11:16:26,420[INFO]zensols.deeplearn.model.executor.status: executed test in 0s\n",
      "2021-05-08 11:16:26,420[INFO]zensols.deeplearn.model.executor.status: deallocating 0 batches\n",
      "2021-05-08 11:16:26,421[INFO]zensols.deeplearn.model.facade: trained in 0s\n",
      "2021-05-08 11:16:26,422[INFO]zensols.deeplearn.model.facade: load previous results\n"
     ]
    },
    {
     "name": "stdout",
     "output_type": "stream",
     "text": [
      "Name: 2: Switched to SGD\n",
      "Run index: 2\n",
      "Learning rate: 0.01\n",
      "    train:\n",
      "        started: 05/08/2021 11:12:54:597356\n",
      "        ended: 05/08/2021 11:16:09:579299\n",
      "        batches: 2400\n",
      "        ave data points per batch/total: 20.0/48000\n",
      "        converged/epochs: 40/40\n",
      "        ave/min loss: 0.37905/0.00260\n",
      "        accuracy: 0.995 (47750/48000)\n",
      "        micro: F1: 0.995, precision: 0.995, recall: 0.995\n",
      "        macro: F1: 0.995, precision: 0.995, recall: 0.995\n",
      "        weighted: F1: 0.995, precision: 0.995, recall: 0.995\n",
      "    validation:\n",
      "        batches: 600\n",
      "        ave data points per batch/total: 20.0/12000\n",
      "        converged/epochs: 39/40\n",
      "        ave/min loss: 1.20880/0.00189\n",
      "        accuracy: 0.982 (11784/12000)\n",
      "        micro: F1: 0.982, precision: 0.982, recall: 0.982\n",
      "        macro: F1: 0.982, precision: 0.982, recall: 0.982\n",
      "        weighted: F1: 0.982, precision: 0.982, recall: 0.982\n",
      "    test:\n",
      "        started: 05/08/2021 11:16:26:207270\n",
      "        ended: 05/08/2021 11:16:26:420093\n",
      "        batches: 500\n",
      "        ave data points per batch/total: 20.0/10000\n",
      "        converged/epochs: 1/1\n",
      "        ave/min loss: 1.17934/0.00017\n",
      "        accuracy: 0.982 (9819/10000)\n",
      "        micro: F1: 0.982, precision: 0.982, recall: 0.982\n",
      "        macro: F1: 0.982, precision: 0.982, recall: 0.982\n",
      "        weighted: F1: 0.982, precision: 0.982, recall: 0.982\n"
     ]
    }
   ],
   "source": [
    "# rerun the test after the second training\n",
    "with_sgd_res = facade.test(desc)\n",
    "facade.write_result()"
   ]
  },
  {
   "cell_type": "code",
   "execution_count": 7,
   "metadata": {
    "scrolled": true
   },
   "outputs": [
    {
     "data": {
      "image/png": "[encoded data removed]",
      "text/plain": [
       "<Figure size 1080x360 with 2 Axes>"
      ]
     },
     "metadata": {
      "needs_background": "light"
     },
     "output_type": "display_data"
    }
   ],
   "source": [
    "# plot the results\n",
    "facade.result_manager.get_grapher().plot_loss([default_res, with_sgd_res])"
   ]
  }
 ],
 "metadata": {
  "kernelspec": {
   "display_name": "Python 3",
   "language": "python",
   "name": "python3"
  },
  "language_info": {
   "codemirror_mode": {
    "name": "ipython",
    "version": 3
   },
   "file_extension": ".py",
   "mimetype": "text/x-python",
   "name": "python",
   "nbconvert_exporter": "python",
   "pygments_lexer": "ipython3",
   "version": "3.9.4"
  }
 },
 "nbformat": 4,
 "nbformat_minor": 4
}
