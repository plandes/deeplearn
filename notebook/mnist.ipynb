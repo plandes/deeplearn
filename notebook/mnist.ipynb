{
 "cells": [
  {
   "cell_type": "markdown",
   "metadata": {},
   "source": [
    "# Deep learning framework example: MNIST dataset\n",
    "\n",
    "This notebook demonstrates how to use the deeplearning API to train and test the model on the [MNIST dataset](http://yann.lecun.com/exdb/mnist/).  This dataset contains hand written digits and their labels.\n",
    "\n",
    "\n",
    "**Important**: Please see the Iris notebook example first, as it contains more explaination of how the framework is used.  The purpose of this notebook is to run the MNIST dataset and visualize the results."
   ]
  },
  {
   "cell_type": "code",
   "execution_count": 1,
   "metadata": {},
   "outputs": [],
   "source": [
    "import sys\n",
    "import logging\n",
    "from zensols.config import ExtendedInterpolationEnvConfig as AppConfig\n",
    "from zensols.config import ImportConfigFactory\n",
    "from zensols.deeplearn.result import ModelResultGrapher\n",
    "from zensols.deeplearn import TorchConfig\n",
    "\n",
    "# set up notebook environment\n",
    "app_root_dir = '..'\n",
    "sys.path.append(app_root_dir + '/src/python')\n",
    "sys.path.append(app_root_dir + '/test/python')\n",
    "\n",
    "# set the random seed so things are predictable\n",
    "TorchConfig.set_random_seed()\n",
    "\n",
    "# configure the environment\n",
    "config = AppConfig(app_root_dir + '/test-resources/mnist/mnist.conf',\n",
    "                   env={'app_root': app_root_dir})"
   ]
  },
  {
   "cell_type": "markdown",
   "metadata": {},
   "source": [
    "## Create the model facade\n",
    "\n",
    "Create the facade with a factory, which in turn creates the executor.  The statistics on the data set that is configured on the executor is, by default, printed to standard out.  You can set the `writer` property to `None` on the facade to disable this."
   ]
  },
  {
   "cell_type": "code",
   "execution_count": 2,
   "metadata": {},
   "outputs": [
    {
     "name": "stderr",
     "output_type": "stream",
     "text": [
      "2020-08-20 19:36:41,393[INFO]zensols.deeplearn.model.facade: creating new executor\n"
     ]
    }
   ],
   "source": [
    "from zensols.deeplearn.model import ModelFacade\n",
    "facade = ModelFacade(config)\n",
    "# configure the logging system using the facade configuration making WARNING the default (root) level\n",
    "facade.configure_jupyter()"
   ]
  },
  {
   "cell_type": "markdown",
   "metadata": {},
   "source": [
    "## Train and test the model\n",
    "\n",
    "This trains the model on the Iris (flower) data set and prints the results.  The PyTorch model itself is also printed.\n",
    "\n",
    "Note that in this step, all batches are loaded and logged.  This example shows that with `cache_executor` and `cache_batches` set to `True`, batches are not reloaded.  This saves time in terms of allocating, decoding and then deallocating CPU/GPU memory, especially when tuning hyperparameters and re-running for large datasets."
   ]
  },
  {
   "cell_type": "code",
   "execution_count": 3,
   "metadata": {},
   "outputs": [
    {
     "name": "stderr",
     "output_type": "stream",
     "text": [
      "2020-08-20 19:36:41,676[INFO]zensols.deeplearn.model.executor.status: resetting executor\n",
      "2020-08-20 19:36:41,677[INFO]zensols.deeplearn.model.facade: training...\n",
      "2020-08-20 19:36:41,874[INFO]zensols.deeplearn.model.executor.status: batch iteration: gpu, limit: 9223372036854775807, caching: True, cached: 0\n",
      "2020-08-20 19:36:47,272[INFO]zensols.deeplearn.model.executor.status: loaded 3000 batches in 5s\n",
      "2020-08-20 19:36:47,273[INFO]zensols.deeplearn.model.executor.status: train/test sets: 2400 600\n",
      "2020-08-20 19:36:47,278[INFO]zensols.deeplearn.model.executor.status: created model on cpu with use cuda: True, device: cuda:0\n",
      "2020-08-20 19:36:47,280[INFO]zensols.deeplearn.model.executor.status: training model <class 'mnist.model.MnistNetwork'> on cuda:0 for 40 epochs using learning rate 0.01\n",
      "  0%|                                                                        | 0/40 [00:00<?, ?it/s]2020-08-20 19:36:47,283[INFO]zensols.deeplearn.model.executor.status: watching update file None\n",
      "tr:7.231|va min:5.063|va:10.979 /\\: 100%|███████████████████████████| 40/40 [02:58<00:00,  4.34s/it]2020-08-20 19:39:45,724[INFO]zensols.deeplearn.model.executor.status: epoch threshold reached at 40\n",
      "2020-08-20 19:39:45,725[INFO]zensols.deeplearn.model.executor.status: final minimum validation loss: 5.0632386837089145\n",
      "2020-08-20 19:39:52,531[INFO]zensols.deeplearn.model.executor.status: executed train in 3 minutes, 5s\n",
      "2020-08-20 19:39:52,532[INFO]zensols.deeplearn.model.executor.status: deallocating 3000 batches\n",
      "tr:7.231|va min:5.063|va:10.979 /\\: 100%|███████████████████████████| 40/40 [03:05<00:00,  4.63s/it]\n",
      "2020-08-20 19:39:52,730[INFO]zensols.deeplearn.model.facade: trained in 3 minutes, 11s\n",
      "2020-08-20 19:39:52,735[INFO]zensols.deeplearn.model.executor.status: reloading model weights\n",
      "2020-08-20 19:39:52,739[INFO]zensols.deeplearn.model.executor.status: created model on cpu with use cuda: True, device: cuda:0\n",
      "2020-08-20 19:39:55,970[INFO]zensols.deeplearn.model.facade: testing...\n",
      "2020-08-20 19:39:55,970[INFO]zensols.deeplearn.model.executor.status: batch iteration: gpu, limit: 9223372036854775807, caching: True, cached: 1\n",
      "2020-08-20 19:39:56,424[INFO]zensols.deeplearn.model.executor.status: loaded 500 batches in 0s\n",
      "2020-08-20 19:39:56,425[INFO]zensols.deeplearn.model.executor.status: train/test sets: 500\n",
      "2020-08-20 19:39:56,427[INFO]zensols.deeplearn.model.executor.status: testing model <class 'mnist.model.MnistNetwork'> on cuda:0\n",
      "2020-08-20 19:39:56,655[INFO]zensols.deeplearn.model.executor.status: executed test in 0s\n",
      "2020-08-20 19:39:56,656[INFO]zensols.deeplearn.model.executor.status: deallocating 500 batches\n",
      "2020-08-20 19:39:56,691[INFO]zensols.deeplearn.model.facade: trained in 0s\n",
      "2020-08-20 19:39:56,691[INFO]zensols.deeplearn.model.facade: load previous results\n"
     ]
    },
    {
     "name": "stdout",
     "output_type": "stream",
     "text": [
      "Name: 2: Default (adam)\n",
      "Run index: 2\n",
      "Learning rate: 0.01\n",
      "    train:\n",
      "        started: 08/20/2020 19:36:47:283810\n",
      "        ended: 08/20/2020 19:39:45:726403\n",
      "        batches: 2400\n",
      "        ave data points per batch: 20.0\n",
      "        converged/epochs: 38/40\n",
      "        ave/min loss: 6.59483/0.00000\n",
      "        accuracy: 0.926 (44452/48000)\n",
      "        micro: F1: 0.926, precision: 0.926, recall: 0.926\n",
      "        macro: F1: 0.927, precision: 0.933, recall: 0.925\n",
      "    validation:\n",
      "        batches: 600\n",
      "        ave data points per batch: 20.0\n",
      "        converged/epochs: 9/40\n",
      "        ave/min loss: 5.06324/0.00120\n",
      "        accuracy: 0.943 (11313/12000)\n",
      "        micro: F1: 0.943, precision: 0.943, recall: 0.943\n",
      "        macro: F1: 0.942, precision: 0.943, recall: 0.942\n",
      "    test:\n",
      "        started: 08/20/2020 19:39:56:428098\n",
      "        ended: 08/20/2020 19:39:56:655784\n",
      "        batches: 500\n",
      "        ave data points per batch: 20.0\n",
      "        converged/epochs: 1/1\n",
      "        ave/min loss: 5.52782/0.00001\n",
      "        accuracy: 0.945 (9446/10000)\n",
      "        micro: F1: 0.945, precision: 0.945, recall: 0.945\n",
      "        macro: F1: 0.944, precision: 0.946, recall: 0.944\n"
     ]
    }
   ],
   "source": [
    "facade.train()\n",
    "default_res = facade.test('Default (adam)')\n",
    "facade.write_result()"
   ]
  },
  {
   "cell_type": "markdown",
   "metadata": {},
   "source": [
    "## Switch to stochastic gradient descent from the default (adam).\n",
    "\n",
    "For this task, the (older) stochastic gradient descent algorithm works better."
   ]
  },
  {
   "cell_type": "code",
   "execution_count": 4,
   "metadata": {},
   "outputs": [
    {
     "name": "stderr",
     "output_type": "stream",
     "text": [
      "2020-08-20 19:39:56,894[INFO]zensols.deeplearn.model.executor.status: resetting executor\n",
      "2020-08-20 19:39:56,895[INFO]zensols.deeplearn.model.facade: training...\n",
      "2020-08-20 19:39:56,896[INFO]zensols.deeplearn.model.executor.status: batch iteration: gpu, limit: 9223372036854775807, caching: True, cached: 2\n",
      "2020-08-20 19:39:56,896[INFO]zensols.deeplearn.model.executor.status: train/test sets: 2400 600\n",
      "2020-08-20 19:39:56,901[INFO]zensols.deeplearn.model.executor.status: created model on cpu with use cuda: True, device: cuda:0\n",
      "2020-08-20 19:39:56,902[INFO]zensols.deeplearn.model.executor.status: training model <class 'mnist.model.MnistNetwork'> on cuda:0 for 40 epochs using learning rate 0.01\n",
      "  0%|                                                                        | 0/40 [00:00<?, ?it/s]2020-08-20 19:39:56,904[INFO]zensols.deeplearn.model.executor.status: watching update file None\n",
      "tr:0.398|va min:1.184|va:1.219 /\\: 100%|████████████████████████████| 40/40 [03:31<00:00,  5.98s/it]2020-08-20 19:43:28,160[INFO]zensols.deeplearn.model.executor.status: epoch threshold reached at 40\n",
      "2020-08-20 19:43:28,160[INFO]zensols.deeplearn.model.executor.status: final minimum validation loss: 1.18387612074924\n",
      "2020-08-20 19:43:37,802[INFO]zensols.deeplearn.model.executor.status: executed train in 3 minutes, 40s\n",
      "2020-08-20 19:43:37,803[INFO]zensols.deeplearn.model.executor.status: deallocating 0 batches\n",
      "2020-08-20 19:43:37,804[INFO]zensols.deeplearn.model.facade: trained in 3 minutes, 40s\n"
     ]
    },
    {
     "data": {
      "text/plain": [
       "mnist.model.MnistNetwork (2)"
      ]
     },
     "execution_count": 4,
     "metadata": {},
     "output_type": "execute_result"
    }
   ],
   "source": [
    "# update the parameters\n",
    "facade.executor.model_settings.optimizer_class_name = 'torch.optim.SGD'\n",
    "# used in titles for plots later\n",
    "desc = 'Switched to SGD'\n",
    "# train again using the new optimizer\n",
    "facade.train(desc)"
   ]
  },
  {
   "cell_type": "code",
   "execution_count": 5,
   "metadata": {},
   "outputs": [
    {
     "name": "stderr",
     "output_type": "stream",
     "text": [
      "2020-08-20 19:43:37,813[INFO]zensols.deeplearn.model.executor.status: reloading model weights\n",
      "2020-08-20 19:43:37,818[INFO]zensols.deeplearn.model.executor.status: created model on cpu with use cuda: True, device: cuda:0\n",
      "tr:0.398|va min:1.184|va:1.219 /\\: 100%|████████████████████████████| 40/40 [03:40<00:00,  5.52s/it]\n",
      "2020-08-20 19:43:41,370[INFO]zensols.deeplearn.model.facade: testing...\n",
      "2020-08-20 19:43:41,371[INFO]zensols.deeplearn.model.executor.status: batch iteration: gpu, limit: 9223372036854775807, caching: True, cached: 2\n",
      "2020-08-20 19:43:41,371[INFO]zensols.deeplearn.model.executor.status: train/test sets: 500\n",
      "2020-08-20 19:43:41,373[INFO]zensols.deeplearn.model.executor.status: testing model <class 'mnist.model.MnistNetwork'> on cuda:0\n",
      "2020-08-20 19:43:41,607[INFO]zensols.deeplearn.model.executor.status: executed test in 0s\n",
      "2020-08-20 19:43:41,608[INFO]zensols.deeplearn.model.executor.status: deallocating 0 batches\n",
      "2020-08-20 19:43:41,609[INFO]zensols.deeplearn.model.facade: trained in 0s\n",
      "2020-08-20 19:43:41,610[INFO]zensols.deeplearn.model.facade: load previous results\n"
     ]
    },
    {
     "name": "stdout",
     "output_type": "stream",
     "text": [
      "Name: 2: Switched to SGD\n",
      "Run index: 2\n",
      "Learning rate: 0.01\n",
      "    train:\n",
      "        started: 08/20/2020 19:39:56:905207\n",
      "        ended: 08/20/2020 19:43:28:161140\n",
      "        batches: 2400\n",
      "        ave data points per batch: 20.0\n",
      "        converged/epochs: 40/40\n",
      "        ave/min loss: 0.39795/0.00184\n",
      "        accuracy: 0.994 (47728/48000)\n",
      "        micro: F1: 0.994, precision: 0.994, recall: 0.994\n",
      "        macro: F1: 0.994, precision: 0.994, recall: 0.994\n",
      "    validation:\n",
      "        batches: 600\n",
      "        ave data points per batch: 20.0\n",
      "        converged/epochs: 39/40\n",
      "        ave/min loss: 1.18388/0.00186\n",
      "        accuracy: 0.983 (11791/12000)\n",
      "        micro: F1: 0.983, precision: 0.983, recall: 0.983\n",
      "        macro: F1: 0.982, precision: 0.982, recall: 0.982\n",
      "    test:\n",
      "        started: 08/20/2020 19:43:41:374243\n",
      "        ended: 08/20/2020 19:43:41:607708\n",
      "        batches: 500\n",
      "        ave data points per batch: 20.0\n",
      "        converged/epochs: 1/1\n",
      "        ave/min loss: 1.19194/0.00019\n",
      "        accuracy: 0.981 (9814/10000)\n",
      "        micro: F1: 0.981, precision: 0.981, recall: 0.981\n",
      "        macro: F1: 0.981, precision: 0.981, recall: 0.981\n"
     ]
    }
   ],
   "source": [
    "# rerun the test after the second training\n",
    "with_sgd_res = facade.test(desc)\n",
    "facade.write_result()"
   ]
  },
  {
   "cell_type": "code",
   "execution_count": 6,
   "metadata": {
    "scrolled": true
   },
   "outputs": [
    {
     "data": {
      "image/png": "[encoded data removed]",
      "text/plain": [
       "<Figure size 1080x360 with 2 Axes>"
      ]
     },
     "metadata": {
      "needs_background": "light"
     },
     "output_type": "display_data"
    }
   ],
   "source": [
    "# plot the results\n",
    "facade.result_manager.get_grapher().plot([default_res, with_sgd_res])"
   ]
  }
 ],
 "metadata": {
  "kernelspec": {
   "display_name": "Python 3",
   "language": "python",
   "name": "python3"
  },
  "language_info": {
   "codemirror_mode": {
    "name": "ipython",
    "version": 3
   },
   "file_extension": ".py",
   "mimetype": "text/x-python",
   "name": "python",
   "nbconvert_exporter": "python",
   "pygments_lexer": "ipython3",
   "version": "3.7.4"
  }
 },
 "nbformat": 4,
 "nbformat_minor": 4
}
