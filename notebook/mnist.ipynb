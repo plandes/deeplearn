{
 "cells": [
  {
   "cell_type": "markdown",
   "metadata": {},
   "source": [
    "# Deep learning framework example: MNIST dataset\n",
    "\n",
    "This notebook demonstrates how to use the deeplearning API to train and test the model on the [MNIST dataset](http://yann.lecun.com/exdb/mnist/).  This dataset contains hand written digits and their labels.\n",
    "\n",
    "\n",
    "**Important**: Please see the Iris notebook example first, as it contains more explaination of how the framework is used.  The purpose of this notebook is to run the MNIST dataset and visualize the results."
   ]
  },
  {
   "cell_type": "code",
   "execution_count": 1,
   "metadata": {},
   "outputs": [],
   "source": [
    "import sys\n",
    "import logging\n",
    "from zensols.config import ExtendedInterpolationEnvConfig as AppConfig\n",
    "from zensols.config import ImportConfigFactory\n",
    "from zensols.deeplearn.result import ModelResultGrapher\n",
    "from zensols.deeplearn import TorchConfig\n",
    "\n",
    "# set up notebook environment\n",
    "app_root_dir = '..'\n",
    "sys.path.append(app_root_dir + '/src/python')\n",
    "sys.path.append(app_root_dir + '/test/python')\n",
    "\n",
    "# configure logging\n",
    "logging.basicConfig(format='%(asctime)-15s %(name)s [%(levelname)s]: %(message)s',\n",
    "                    level=logging.WARNING)\n",
    "\n",
    "# set the random seed so things are predictable\n",
    "TorchConfig.set_random_seed()\n",
    "\n",
    "# configure the environment\n",
    "config = AppConfig(app_root_dir + '/test-resources/mnist/mnist.conf',\n",
    "                   env={'app_root': app_root_dir})"
   ]
  },
  {
   "cell_type": "markdown",
   "metadata": {},
   "source": [
    "## Create the model facade\n",
    "\n",
    "Create the facade with a factory, which in turn creates the executor.  The statistics on the data set that is configured on the executor is, by default, printed to standard out.  You can set the `writer` property to `None` on the facade to disable this."
   ]
  },
  {
   "cell_type": "code",
   "execution_count": 2,
   "metadata": {},
   "outputs": [],
   "source": [
    "from zensols.deeplearn.model import ModelFacade\n",
    "facade = ModelFacade(config)"
   ]
  },
  {
   "cell_type": "markdown",
   "metadata": {},
   "source": [
    "## Train and test the model\n",
    "\n",
    "This trains the model on the Iris (flower) data set and prints the results.  The PyTorch model itself is also printed.\n",
    "\n",
    "Note that in this step, all batches are loaded and logged.  This example shows that with `cache_executor` and `cache_batches` set to `True`, batches are not reloaded.  This saves time in terms of allocating, decoding and then deallocating CPU/GPU memory, especially when tuning hyperparameters and re-running for large datasets."
   ]
  },
  {
   "cell_type": "code",
   "execution_count": 3,
   "metadata": {},
   "outputs": [
    {
     "name": "stdout",
     "output_type": "stream",
     "text": [
      "model: Mnist\n",
      "feature splits:\n",
      "    split stash splits:\n",
      "        train: 48000 (68.6%)\n",
      "        val: 12000 (17.1%)\n",
      "        test: 10000 (14.3%)\n",
      "        total: 70000\n",
      "    total this instance: 70000\n",
      "    keys consistent: True\n",
      "batch splits:\n",
      "    split stash splits:\n",
      "        train: 2400 (68.6%)\n",
      "        val: 600 (17.1%)\n",
      "        test: 500 (14.3%)\n",
      "        total: 3500\n",
      "    total this instance: 3500\n",
      "    keys consistent: True\n"
     ]
    },
    {
     "name": "stderr",
     "output_type": "stream",
     "text": [
      "train: 6.869|valid: 8.924/4.872 /\\: 100%|██████| 40/40 [02:44<00:00,  4.12s/it]\n"
     ]
    },
    {
     "name": "stdout",
     "output_type": "stream",
     "text": [
      "Name: 2: Default (Adam)\n",
      "Run index: 2\n",
      "Learning rate: 0.01\n",
      "    train:\n",
      "        started: 07/01/2020 07:51:46:598902\n",
      "        ended: 07/01/2020 07:54:31:330099\n",
      "        batches: 2400\n",
      "        ave data points per batch: 20.0\n",
      "        converged/epochs: 40/40\n",
      "        ave/min loss: 6.86918/0.00000\n",
      "        accuracy: 0.919 (44092/48000)\n",
      "        micro: F1: 0.919, precision: 0.919, recall: 0.919\n",
      "        macro: F1: 0.919, precision: 0.922, recall: 0.918\n",
      "    validation:\n",
      "        batches: 600\n",
      "        ave data points per batch: 20.0\n",
      "        converged/epochs: 7/40\n",
      "        ave/min loss: 4.87190/0.00047\n",
      "        accuracy: 0.945 (11336/12000)\n",
      "        micro: F1: 0.945, precision: 0.945, recall: 0.945\n",
      "        macro: F1: 0.944, precision: 0.945, recall: 0.944\n",
      "    test:\n",
      "        started: 07/01/2020 07:54:41:811637\n",
      "        ended: 07/01/2020 07:54:42:017441\n",
      "        batches: 500\n",
      "        ave data points per batch: 20.0\n",
      "        converged/epochs: 1/1\n",
      "        ave/min loss: 5.33325/0.00008\n",
      "        accuracy: 0.941 (9413/10000)\n",
      "        micro: F1: 0.941, precision: 0.941, recall: 0.941\n",
      "        macro: F1: 0.940, precision: 0.941, recall: 0.941\n"
     ]
    }
   ],
   "source": [
    "facade.train()\n",
    "default_res = facade.test('Default (Adam)')"
   ]
  },
  {
   "cell_type": "markdown",
   "metadata": {},
   "source": [
    "## Switch to stochastic gradient descent from the default (adam).\n",
    "\n",
    "For this task, the (older) stochastic gradient descent algorithm works better."
   ]
  },
  {
   "cell_type": "code",
   "execution_count": 4,
   "metadata": {},
   "outputs": [],
   "source": [
    "facade.executor.model_settings.optimizer_class_name = 'torch.optim.SGD'\n",
    "desc = 'switch to SGD'"
   ]
  },
  {
   "cell_type": "code",
   "execution_count": 5,
   "metadata": {},
   "outputs": [
    {
     "name": "stderr",
     "output_type": "stream",
     "text": [
      "\r",
      "  0%|                                                   | 0/40 [00:00<?, ?it/s]"
     ]
    },
    {
     "name": "stdout",
     "output_type": "stream",
     "text": [
      "model: Mnist\n",
      "feature splits:\n",
      "    split stash splits:\n",
      "        train: 48000 (68.6%)\n",
      "        val: 12000 (17.1%)\n",
      "        test: 10000 (14.3%)\n",
      "        total: 70000\n",
      "    total this instance: 70000\n",
      "    keys consistent: True\n",
      "batch splits:\n",
      "    split stash splits:\n",
      "        train: 2400 (68.6%)\n",
      "        val: 600 (17.1%)\n",
      "        test: 500 (14.3%)\n",
      "        total: 3500\n",
      "    total this instance: 3500\n",
      "    keys consistent: True\n"
     ]
    },
    {
     "name": "stderr",
     "output_type": "stream",
     "text": [
      "train: 0.404|valid: 1.183/1.188 \\/: 100%|██████| 40/40 [03:12<00:00,  4.82s/it]\n"
     ]
    },
    {
     "data": {
      "text/plain": [
       "mnist.model.MnistNetwork (2)"
      ]
     },
     "execution_count": 5,
     "metadata": {},
     "output_type": "execute_result"
    }
   ],
   "source": [
    "# train again using the new optimizer\n",
    "facade.train(desc)"
   ]
  },
  {
   "cell_type": "code",
   "execution_count": 6,
   "metadata": {},
   "outputs": [
    {
     "name": "stdout",
     "output_type": "stream",
     "text": [
      "Name: 2: switch to SGD\n",
      "Run index: 2\n",
      "Learning rate: 0.01\n",
      "    train:\n",
      "        started: 07/01/2020 07:54:42:270628\n",
      "        ended: 07/01/2020 07:57:54:951673\n",
      "        batches: 2400\n",
      "        ave data points per batch: 20.0\n",
      "        converged/epochs: 40/40\n",
      "        ave/min loss: 0.40395/0.00243\n",
      "        accuracy: 0.994 (47732/48000)\n",
      "        micro: F1: 0.994, precision: 0.994, recall: 0.994\n",
      "        macro: F1: 0.994, precision: 0.994, recall: 0.994\n",
      "    validation:\n",
      "        batches: 600\n",
      "        ave data points per batch: 20.0\n",
      "        converged/epochs: 40/40\n",
      "        ave/min loss: 1.18319/0.00177\n",
      "        accuracy: 0.982 (11780/12000)\n",
      "        micro: F1: 0.982, precision: 0.982, recall: 0.982\n",
      "        macro: F1: 0.981, precision: 0.981, recall: 0.981\n",
      "    test:\n",
      "        started: 07/01/2020 07:58:07:417029\n",
      "        ended: 07/01/2020 07:58:07:628412\n",
      "        batches: 500\n",
      "        ave data points per batch: 20.0\n",
      "        converged/epochs: 1/1\n",
      "        ave/min loss: 1.15868/0.00020\n",
      "        accuracy: 0.982 (9820/10000)\n",
      "        micro: F1: 0.982, precision: 0.982, recall: 0.982\n",
      "        macro: F1: 0.982, precision: 0.982, recall: 0.982\n"
     ]
    }
   ],
   "source": [
    "# rerun the test after the second training\n",
    "with_sgd_res = facade.test(desc)"
   ]
  },
  {
   "cell_type": "code",
   "execution_count": 7,
   "metadata": {
    "scrolled": true
   },
   "outputs": [
    {
     "data": {
      "image/png": "[encoded data removed]",
      "text/plain": [
       "<Figure size 1080x360 with 2 Axes>"
      ]
     },
     "metadata": {
      "needs_background": "light"
     },
     "output_type": "display_data"
    }
   ],
   "source": [
    "# plot the results\n",
    "facade.get_grapher().plot([default_res, with_sgd_res])"
   ]
  }
 ],
 "metadata": {
  "kernelspec": {
   "display_name": "Python 3",
   "language": "python",
   "name": "python3"
  },
  "language_info": {
   "codemirror_mode": {
    "name": "ipython",
    "version": 3
   },
   "file_extension": ".py",
   "mimetype": "text/x-python",
   "name": "python",
   "nbconvert_exporter": "python",
   "pygments_lexer": "ipython3",
   "version": "3.7.4"
  }
 },
 "nbformat": 4,
 "nbformat_minor": 4
}
