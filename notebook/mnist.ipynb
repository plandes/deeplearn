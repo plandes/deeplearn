{
 "cells": [
  {
   "cell_type": "markdown",
   "metadata": {},
   "source": [
    "# Deep learning framework example: MNIST dataset\n",
    "\n",
    "This notebook demonstrates how to use the deeplearning API to train and test the model on the [MNIST dataset](http://yann.lecun.com/exdb/mnist/).  This dataset contains hand written digits and their labels.\n",
    "\n",
    "\n",
    "**Important**: Please see the Iris notebook example first, as it contains more explaination of how the framework is used.  The purpose of this notebook is to run the MNIST dataset and visualize the results."
   ]
  },
  {
   "cell_type": "code",
   "execution_count": 1,
   "metadata": {},
   "outputs": [],
   "source": [
    "import sys\n",
    "import logging\n",
    "from zensols.config import ExtendedInterpolationEnvConfig as AppConfig\n",
    "from zensols.config import ImportConfigFactory\n",
    "from zensols.deeplearn.result import ModelResultGrapher\n",
    "from zensols.deeplearn import TorchConfig\n",
    "\n",
    "# set up notebook environment\n",
    "app_root_dir = '..'\n",
    "sys.path.append(app_root_dir + '/src/python')\n",
    "sys.path.append(app_root_dir + '/test/python')\n",
    "\n",
    "# configure logging\n",
    "logging.basicConfig(format='%(asctime)-15s %(name)s [%(levelname)s]: %(message)s', level=logging.WARNING)\n",
    "#logging.getLogger('zensols.deeplearn.batch.stash').setLevel(logging.INFO)\n",
    "#logging.getLogger('zensols.deeplearn.model.facade').setLevel(logging.INFO)\n",
    "\n",
    "# set the random seed so things are predictable\n",
    "TorchConfig.set_random_seed()\n",
    "\n",
    "# configure the environment\n",
    "config = AppConfig(app_root_dir + '/test-resources/mnist/mnist.conf',\n",
    "                   env={'app_root': app_root_dir})"
   ]
  },
  {
   "cell_type": "markdown",
   "metadata": {},
   "source": [
    "## Create the model facade\n",
    "\n",
    "Create the facade with a factory, which in turn creates the executor.  The statistics on the data set that is configured on the executor is, by default, printed to standard out.  You can set the `writer` property to `None` on the facade to disable this."
   ]
  },
  {
   "cell_type": "code",
   "execution_count": 2,
   "metadata": {},
   "outputs": [],
   "source": [
    "from zensols.deeplearn.model import ModelFacade\n",
    "facade = ModelFacade(config)"
   ]
  },
  {
   "cell_type": "markdown",
   "metadata": {},
   "source": [
    "## Train and test the model\n",
    "\n",
    "This trains the model on the Iris (flower) data set and prints the results.  The PyTorch model itself is also printed.\n",
    "\n",
    "Note that in this step, all batches are loaded and logged.  This example shows that with `cache_executor` and `cache_batches` set to `True`, batches are not reloaded.  This saves time in terms of allocating, decoding and then deallocating CPU/GPU memory, especially when tuning hyperparameters and re-running for large datasets."
   ]
  },
  {
   "cell_type": "code",
   "execution_count": 3,
   "metadata": {},
   "outputs": [
    {
     "name": "stdout",
     "output_type": "stream",
     "text": [
      "model: Mnist\n",
      "feature splits:\n",
      "    split stash splits:\n",
      "        train: 48000 (68.6%)\n",
      "        val: 12000 (17.1%)\n",
      "        test: 10000 (14.3%)\n",
      "        total: 70000\n",
      "    total this instance: 70000\n",
      "    keys consistent: True\n",
      "batch splits:\n",
      "    split stash splits:\n",
      "        train: 2400 (68.6%)\n",
      "        val: 600 (17.1%)\n",
      "        test: 500 (14.3%)\n",
      "        total: 3500\n",
      "    total this instance: 3500\n",
      "    keys consistent: True\n"
     ]
    },
    {
     "name": "stderr",
     "output_type": "stream",
     "text": [
      "train: 7.946|valid: 13.445/4.837 /\\: 100%|█████| 40/40 [02:47<00:00,  4.20s/it]\n"
     ]
    },
    {
     "name": "stdout",
     "output_type": "stream",
     "text": [
      "Name: 2: Default (Adam)\n",
      "Run index: 2\n",
      "Learning rate: 0.01\n",
      "    train:\n",
      "        started: 06/27/2020 14:54:14:616888\n",
      "        ended: 06/27/2020 14:57:02:518894\n",
      "        batches: 2400\n",
      "        ave data points per batch: 20.0\n",
      "        converged/epochs: 37/40\n",
      "        ave/min loss: 6.94471/0.00001\n",
      "        accuracy: 0.917 (44036/48000)\n",
      "        micro: F1: 0.917, precision: 0.917, recall: 0.917\n",
      "        macro: F1: 0.918, precision: 0.921, recall: 0.916\n",
      "    validation:\n",
      "        batches: 600\n",
      "        ave data points per batch: 20.0\n",
      "        converged/epochs: 8/40\n",
      "        ave/min loss: 4.83727/0.00704\n",
      "        accuracy: 0.944 (11323/12000)\n",
      "        micro: F1: 0.944, precision: 0.944, recall: 0.944\n",
      "        macro: F1: 0.943, precision: 0.944, recall: 0.943\n",
      "    test:\n",
      "        started: 06/27/2020 14:57:12:929018\n",
      "        ended: 06/27/2020 14:57:13:146291\n",
      "        batches: 500\n",
      "        ave data points per batch: 20.0\n",
      "        converged/epochs: 1/1\n",
      "        ave/min loss: 4.89451/0.00004\n",
      "        accuracy: 0.944 (9441/10000)\n",
      "        micro: F1: 0.944, precision: 0.944, recall: 0.944\n",
      "        macro: F1: 0.944, precision: 0.944, recall: 0.943\n"
     ]
    }
   ],
   "source": [
    "facade.train()\n",
    "default_res = facade.test('Default (Adam)')"
   ]
  },
  {
   "cell_type": "markdown",
   "metadata": {},
   "source": [
    "## Switch to stochastic gradient descent from the default (adam).\n",
    "\n",
    "For this task, the (older) stochastic gradient descent algorithm works better."
   ]
  },
  {
   "cell_type": "code",
   "execution_count": 4,
   "metadata": {},
   "outputs": [],
   "source": [
    "facade.executor.model_settings.optimizer_class_name = 'torch.optim.SGD'\n",
    "desc = 'switch to SGD'"
   ]
  },
  {
   "cell_type": "code",
   "execution_count": 5,
   "metadata": {},
   "outputs": [
    {
     "name": "stderr",
     "output_type": "stream",
     "text": [
      "\r",
      "  0%|                                                   | 0/40 [00:00<?, ?it/s]"
     ]
    },
    {
     "name": "stdout",
     "output_type": "stream",
     "text": [
      "model: Mnist\n",
      "feature splits:\n",
      "    split stash splits:\n",
      "        train: 48000 (68.6%)\n",
      "        val: 12000 (17.1%)\n",
      "        test: 10000 (14.3%)\n",
      "        total: 70000\n",
      "    total this instance: 70000\n",
      "    keys consistent: True\n",
      "batch splits:\n",
      "    split stash splits:\n",
      "        train: 2400 (68.6%)\n",
      "        val: 600 (17.1%)\n",
      "        test: 500 (14.3%)\n",
      "        total: 3500\n",
      "    total this instance: 3500\n",
      "    keys consistent: True\n"
     ]
    },
    {
     "name": "stderr",
     "output_type": "stream",
     "text": [
      "train: 0.404|valid: 1.156/1.164 \\/: 100%|██████| 40/40 [03:24<00:00,  5.11s/it]\n"
     ]
    },
    {
     "data": {
      "text/plain": [
       "mnist.model.MnistNetwork (2)"
      ]
     },
     "execution_count": 5,
     "metadata": {},
     "output_type": "execute_result"
    }
   ],
   "source": [
    "# train again using the new optimizer\n",
    "facade.train(desc)"
   ]
  },
  {
   "cell_type": "code",
   "execution_count": 6,
   "metadata": {},
   "outputs": [
    {
     "name": "stdout",
     "output_type": "stream",
     "text": [
      "Name: 2: switch to SGD\n",
      "Run index: 2\n",
      "Learning rate: 0.01\n",
      "    train:\n",
      "        started: 06/27/2020 14:57:13:413779\n",
      "        ended: 06/27/2020 15:00:37:897267\n",
      "        batches: 2400\n",
      "        ave data points per batch: 20.0\n",
      "        converged/epochs: 40/40\n",
      "        ave/min loss: 0.40445/0.00191\n",
      "        accuracy: 0.995 (47742/48000)\n",
      "        micro: F1: 0.995, precision: 0.995, recall: 0.995\n",
      "        macro: F1: 0.995, precision: 0.995, recall: 0.995\n",
      "    validation:\n",
      "        batches: 600\n",
      "        ave data points per batch: 20.0\n",
      "        converged/epochs: 40/40\n",
      "        ave/min loss: 1.15588/0.00034\n",
      "        accuracy: 0.982 (11779/12000)\n",
      "        micro: F1: 0.982, precision: 0.982, recall: 0.982\n",
      "        macro: F1: 0.981, precision: 0.981, recall: 0.981\n",
      "    test:\n",
      "        started: 06/27/2020 15:00:50:459824\n",
      "        ended: 06/27/2020 15:00:50:673843\n",
      "        batches: 500\n",
      "        ave data points per batch: 20.0\n",
      "        converged/epochs: 1/1\n",
      "        ave/min loss: 1.11487/0.00021\n",
      "        accuracy: 0.982 (9822/10000)\n",
      "        micro: F1: 0.982, precision: 0.982, recall: 0.982\n",
      "        macro: F1: 0.982, precision: 0.982, recall: 0.982\n"
     ]
    }
   ],
   "source": [
    "# rerun the test after the second training\n",
    "with_sgd_res = facade.test(desc)"
   ]
  },
  {
   "cell_type": "code",
   "execution_count": 7,
   "metadata": {
    "scrolled": true
   },
   "outputs": [
    {
     "data": {
      "image/png": "[encoded data removed]",
      "text/plain": [
       "<Figure size 1080x360 with 2 Axes>"
      ]
     },
     "metadata": {
      "needs_background": "light"
     },
     "output_type": "display_data"
    }
   ],
   "source": [
    "# plot the results\n",
    "facade.get_grapher().plot([default_res, with_sgd_res])"
   ]
  }
 ],
 "metadata": {
  "kernelspec": {
   "display_name": "Python 3",
   "language": "python",
   "name": "python3"
  },
  "language_info": {
   "codemirror_mode": {
    "name": "ipython",
    "version": 3
   },
   "file_extension": ".py",
   "mimetype": "text/x-python",
   "name": "python",
   "nbconvert_exporter": "python",
   "pygments_lexer": "ipython3",
   "version": "3.7.4"
  }
 },
 "nbformat": 4,
 "nbformat_minor": 4
}
