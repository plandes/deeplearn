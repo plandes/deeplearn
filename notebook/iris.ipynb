{
 "cells": [
  {
   "cell_type": "markdown",
   "metadata": {},
   "source": [
    "# Deep learning framework example\n",
    "\n",
    "This notebook demonstrates how to use the deeplearning API to train and test the model on the [Iris dataset](https://archive.ics.uci.edu/ml/datasets/iris).\n",
    "\n",
    "To install the necessary software, use `make deps` in the root directory of the project.  If you don't have make installed or don't want to use it, then use:\n",
    "\n",
    "`pip install -r src/python/requirements.txt`\n",
    "\n",
    "\n",
    "## What is demoed\n",
    "\n",
    "This notebook shows how to create an executor directly.  However, an easier more client friendly facade is available and given in the *mnist* notebook.\n",
    "\n",
    "Also see the the *debug* notebook, which demostrates how to debug a model."
   ]
  },
  {
   "cell_type": "code",
   "execution_count": 1,
   "metadata": {},
   "outputs": [],
   "source": [
    "# set up notebook environment\n",
    "import sys\n",
    "app_root_dir = '..'\n",
    "sys.path.append(app_root_dir + '/src/python')\n",
    "sys.path.append(app_root_dir + '/test/python')\n",
    "\n",
    "from zensols.deeplearn import TorchConfig\n",
    "# set the random seed so things are predictable\n",
    "TorchConfig.set_random_seed()"
   ]
  },
  {
   "cell_type": "markdown",
   "metadata": {},
   "source": [
    "## Create the object factory\n",
    "\n",
    "This creates a factoty that instantiates Python objects using a simple configuration (INI).  This removes much of the complexity of creating and \"hooking up\" all the instances."
   ]
  },
  {
   "cell_type": "code",
   "execution_count": 2,
   "metadata": {},
   "outputs": [],
   "source": [
    "import logging\n",
    "from zensols.config import ExtendedInterpolationEnvConfig as AppConfig\n",
    "from zensols.config import ImportConfigFactory\n",
    "from zensols.deeplearn.result import ModelResultGrapher\n",
    "\n",
    "# configure logging\n",
    "logging.basicConfig(format='%(asctime)-15s %(name)s [%(levelname)s]: %(message)s',\n",
    "                    level=logging.WARNING)\n",
    "for name in ['zensols.deeplearn.result',\n",
    "             'zensols.deeplearn.model.facade',\n",
    "             'zensols.deeplearn.batch.stash']:\n",
    "    logging.getLogger(name).setLevel(logging.INFO)\n",
    "\n",
    "# configure the environment\n",
    "config = AppConfig(app_root_dir + '/test-resources/iris/iris.conf',\n",
    "                   env={'app_root': app_root_dir})\n",
    "\n",
    "# create a factoty that instantiates Python objects using a simple configuration (INI)\n",
    "factory = ImportConfigFactory(config)"
   ]
  },
  {
   "cell_type": "markdown",
   "metadata": {},
   "source": [
    "## Create the model executor\n",
    "\n",
    "Use the factory to create the model executor (see the `executor` section of `test-resources/iris/iris.conf`).  The `write` method gives statistics on the data set that is configured on the executor."
   ]
  },
  {
   "cell_type": "code",
   "execution_count": 3,
   "metadata": {},
   "outputs": [
    {
     "name": "stdout",
     "output_type": "stream",
     "text": [
      "model: Iris\n",
      "feature splits:\n",
      "    data frame splits:\n",
      "        dev: 12 (8.0%)\n",
      "        test: 25 (16.7%)\n",
      "        train: 113 (75.3%)\n",
      "        total: 150\n",
      "batch splits:\n",
      "    split stash splits:\n",
      "        dev: 1 (11.1%)\n",
      "        test: 2 (22.2%)\n",
      "        train: 6 (66.7%)\n",
      "        total: 9\n",
      "    total this instance: 9\n",
      "    keys consistent: True\n"
     ]
    }
   ],
   "source": [
    "executor = factory('executor')\n",
    "executor.write()"
   ]
  },
  {
   "cell_type": "markdown",
   "metadata": {},
   "source": [
    "## Print the model\n",
    "\n",
    "Every time the executor is told to train, it creates a new model.  It also stores this model to the disk every time the validation loss drops.  The method that controls the creation is `_create_model`, and not meant to be called by the client.  Note this creates a new PyTorch `torch.nn.Module` every time and isn't the same instance used by the executor.\n",
    "\n",
    "In this case, a four deep fully connected network is created and fanned out from the 4 features (from four columns from the CSV file) to 20.  This is then reduce to the output layer having three neurons indicating which type of flower (setosa, versicolor, or virginica)."
   ]
  },
  {
   "cell_type": "code",
   "execution_count": 4,
   "metadata": {},
   "outputs": [
    {
     "name": "stdout",
     "output_type": "stream",
     "text": [
      "IrisNetwork(\n",
      "  (fc): DeepLinear(\n",
      "    (seq_layers): Sequential(\n",
      "      (0): Linear(in_features=4, out_features=5, bias=True)\n",
      "      (1): Dropout(p=0.1, inplace=False)\n",
      "      (2): Linear(in_features=5, out_features=1, bias=True)\n",
      "      (3): Dropout(p=0.1, inplace=False)\n",
      "      (4): Linear(in_features=1, out_features=3, bias=True)\n",
      "      (5): Dropout(p=0.1, inplace=False)\n",
      "    )\n",
      "  )\n",
      ")\n"
     ]
    }
   ],
   "source": [
    "print(executor._create_model())"
   ]
  },
  {
   "cell_type": "markdown",
   "metadata": {},
   "source": [
    "## Train and test the model\n",
    "\n",
    "This trains the model on the Iris (flower) data set and prints the results.  The PyTorch model itself is also printed."
   ]
  },
  {
   "cell_type": "code",
   "execution_count": 5,
   "metadata": {},
   "outputs": [
    {
     "name": "stderr",
     "output_type": "stream",
     "text": [
      "2020-06-27 16:10:54,745 zensols.deeplearn.batch.stash [INFO]: loaded batch 3 (train) in 0s\n",
      "2020-06-27 16:10:54,748 zensols.deeplearn.batch.stash [INFO]: loaded batch 4 (train) in 0s\n",
      "2020-06-27 16:10:54,752 zensols.deeplearn.batch.stash [INFO]: loaded batch 5 (train) in 0s\n",
      "2020-06-27 16:10:54,755 zensols.deeplearn.batch.stash [INFO]: loaded batch 6 (train) in 0s\n",
      "2020-06-27 16:10:54,759 zensols.deeplearn.batch.stash [INFO]: loaded batch 7 (train) in 0s\n",
      "2020-06-27 16:10:54,762 zensols.deeplearn.batch.stash [INFO]: loaded batch 8 (train) in 0s\n",
      "2020-06-27 16:10:56,869 zensols.deeplearn.batch.stash [INFO]: loaded batch 0 (dev) in 0s\n",
      "train: 8.114|valid: 5.261/3.489 /\\: 100%|██████| 15/15 [00:00<00:00, 54.22it/s]\n",
      "2020-06-27 16:10:57,174 zensols.deeplearn.batch.stash [INFO]: loaded batch 1 (test) in 0s\n",
      "2020-06-27 16:10:57,175 zensols.deeplearn.batch.stash [INFO]: loaded batch 2 (test) in 0s\n"
     ]
    },
    {
     "name": "stdout",
     "output_type": "stream",
     "text": [
      "Name: Iris: 1\n",
      "Run index: 2\n",
      "Learning rate: 0.1\n",
      "    train:\n",
      "        started: 06/27/2020 16:10:56:874533\n",
      "        ended: 06/27/2020 16:10:57:151818\n",
      "        batches: 6\n",
      "        ave data points per batch: 18.8\n",
      "        converged/epochs: 14/15\n",
      "        ave/min loss: 7.18044/2.50566\n",
      "        accuracy: 0.673 (76/113)\n",
      "        micro: F1: 0.673, precision: 0.673, recall: 0.673\n",
      "        macro: F1: 0.632, precision: 0.696, recall: 0.679\n",
      "    validation:\n",
      "        batches: 1\n",
      "        ave data points per batch: 12.0\n",
      "        converged/epochs: 14/15\n",
      "        ave/min loss: 3.48851/3.48851\n",
      "        accuracy: 0.750 (9/12)\n",
      "        micro: F1: 0.750, precision: 0.750, recall: 0.750\n",
      "        macro: F1: 0.608, precision: 0.567, recall: 0.667\n",
      "    test:\n",
      "        started: 06/27/2020 16:10:57:178595\n",
      "        ended: 06/27/2020 16:10:57:180174\n",
      "        batches: 2\n",
      "        ave data points per batch: 12.5\n",
      "        converged/epochs: 1/1\n",
      "        ave/min loss: 4.50519/2.13488\n",
      "        accuracy: 0.640 (16/25)\n",
      "        micro: F1: 0.640, precision: 0.640, recall: 0.640\n",
      "        macro: F1: 0.565, precision: 0.571, recall: 0.613\n"
     ]
    },
    {
     "data": {
      "image/png": "[encoded data removed]",
      "text/plain": [
       "<Figure size 1080x360 with 1 Axes>"
      ]
     },
     "metadata": {
      "needs_background": "light"
     },
     "output_type": "display_data"
    }
   ],
   "source": [
    "# tell the executor to give us console output\n",
    "executor.progress_bar = True\n",
    "\n",
    "# train the model\n",
    "executor.train()\n",
    "\n",
    "# test the model\n",
    "res = executor.test()\n",
    "\n",
    "# write a summary of the results\n",
    "res.write()\n",
    "\n",
    "# graph the results\n",
    "grapher = ModelResultGrapher('Iris dataset', [15, 5])\n",
    "grapher.plot([res])"
   ]
  },
  {
   "cell_type": "markdown",
   "metadata": {},
   "source": [
    "## Create the model facade\n",
    "\n",
    "An easier wasy to use the executor is with a *facade*.  A `ModelFacade` provides easy to use client entry points to the model executor, which trains, validates, tests, saves and loads the model.  Create the facade with a factory, which in turn creates the executor.  The statistics on the data set that is configured on the executor is, by default, printed to standard out.  You can set the `writer` property to `None` on the facade to disable this."
   ]
  },
  {
   "cell_type": "code",
   "execution_count": 6,
   "metadata": {},
   "outputs": [],
   "source": [
    "from dataclasses import dataclass\n",
    "from zensols.deeplearn.model import ModelFacade\n",
    "\n",
    "@dataclass\n",
    "class IrisModelFacade(ModelFacade):\n",
    "    def _configure_debug_logging(self):\n",
    "        super()._configure_debug_logging()\n",
    "        logging.getLogger('iris.model').setLevel(logging.DEBUG)\n",
    "        \n",
    "# deallocate the previous executor\n",
    "executor.deallocate()\n",
    "# create the facade\n",
    "facade = IrisModelFacade(config)"
   ]
  },
  {
   "cell_type": "markdown",
   "metadata": {},
   "source": [
    "## Fine tune setting hyperparameters\n",
    "\n",
    "Now that we have our model training and we have evaluated the results, we see the validation loss is very spiky.  This means our learning rate is probably too high as when it moves during stochastic gradient descent it is \"jumping\" too far and back up the error surface.\n",
    "\n",
    "To fix that, let's decrease the learning rate.  We can do that by adjusting the hyperparameters directly on the facade.  In fact, the purpose of the facade is to make changes easily such as this.\n",
    "\n",
    "Notice that the facade prints the output with a correctly configured scroll bar by default.  Output can be disabled by setting the `writer` attribute/initializer parameter to `None`.  The progress bar and columns are set with the `progress_bar` and `progress_bar_col` attributes."
   ]
  },
  {
   "cell_type": "code",
   "execution_count": 7,
   "metadata": {},
   "outputs": [
    {
     "name": "stderr",
     "output_type": "stream",
     "text": [
      "2020-06-27 16:10:57,504 zensols.deeplearn.model.facade [INFO]: creating new executor\n",
      "2020-06-27 16:10:57,519 zensols.deeplearn.model.facade [INFO]: training...\n",
      "2020-06-27 16:10:57,523 zensols.deeplearn.batch.stash [INFO]: loaded batch 3 (train) in 0s\n",
      "2020-06-27 16:10:57,527 zensols.deeplearn.batch.stash [INFO]: loaded batch 4 (train) in 0s\n",
      "2020-06-27 16:10:57,530 zensols.deeplearn.batch.stash [INFO]: loaded batch 5 (train) in 0s\n",
      "2020-06-27 16:10:57,534 zensols.deeplearn.batch.stash [INFO]: loaded batch 6 (train) in 0s\n",
      "2020-06-27 16:10:57,537 zensols.deeplearn.batch.stash [INFO]: loaded batch 7 (train) in 0s\n",
      "2020-06-27 16:10:57,540 zensols.deeplearn.batch.stash [INFO]: loaded batch 8 (train) in 0s\n",
      "2020-06-27 16:10:57,548 zensols.deeplearn.batch.stash [INFO]: loaded batch 0 (dev) in 0s\n",
      "train: 12.023|valid: 6.886/6.975 \\/:  20%|█▏    | 6/30 [00:00<00:00, 56.07it/s]"
     ]
    },
    {
     "name": "stdout",
     "output_type": "stream",
     "text": [
      "model: Iris\n",
      "feature splits:\n",
      "    data frame splits:\n",
      "        dev: 12 (8.0%)\n",
      "        test: 25 (16.7%)\n",
      "        train: 113 (75.3%)\n",
      "        total: 150\n",
      "batch splits:\n",
      "    split stash splits:\n",
      "        dev: 1 (11.1%)\n",
      "        test: 2 (22.2%)\n",
      "        train: 6 (66.7%)\n",
      "        total: 9\n",
      "    total this instance: 9\n",
      "    keys consistent: True\n"
     ]
    },
    {
     "name": "stderr",
     "output_type": "stream",
     "text": [
      "train: 9.851|valid: 5.015/5.078 \\/: 100%|██████| 30/30 [00:00<00:00, 45.32it/s]\n",
      "2020-06-27 16:10:58,240 zensols.deeplearn.model.facade [INFO]: trained in 0s\n",
      "2020-06-27 16:10:58,250 zensols.deeplearn.model.facade [INFO]: testing...\n",
      "2020-06-27 16:10:58,254 zensols.deeplearn.batch.stash [INFO]: loaded batch 1 (test) in 0s\n",
      "2020-06-27 16:10:58,256 zensols.deeplearn.batch.stash [INFO]: loaded batch 2 (test) in 0s\n",
      "2020-06-27 16:10:58,259 zensols.deeplearn.model.facade [INFO]: trained in 0s\n"
     ]
    },
    {
     "name": "stdout",
     "output_type": "stream",
     "text": [
      "Name: Iris: 1\n",
      "Run index: 2\n",
      "Learning rate: 0.01\n",
      "    train:\n",
      "        started: 06/27/2020 16:10:57:552082\n",
      "        ended: 06/27/2020 16:10:58:214496\n",
      "        batches: 6\n",
      "        ave data points per batch: 18.8\n",
      "        converged/epochs: 29/30\n",
      "        ave/min loss: 9.70528/5.17343\n",
      "        accuracy: 0.602 (68/113)\n",
      "        micro: F1: 0.602, precision: 0.602, recall: 0.602\n",
      "        macro: F1: 0.496, precision: 0.426, recall: 0.612\n",
      "    validation:\n",
      "        batches: 1\n",
      "        ave data points per batch: 12.0\n",
      "        converged/epochs: 30/30\n",
      "        ave/min loss: 5.01544/5.01544\n",
      "        accuracy: 0.750 (9/12)\n",
      "        micro: F1: 0.750, precision: 0.750, recall: 0.750\n",
      "        macro: F1: 0.608, precision: 0.567, recall: 0.667\n",
      "    test:\n",
      "        started: 06/27/2020 16:10:58:258044\n",
      "        ended: 06/27/2020 16:10:58:259426\n",
      "        batches: 2\n",
      "        ave data points per batch: 12.5\n",
      "        converged/epochs: 1/1\n",
      "        ave/min loss: 5.81564/1.73373\n",
      "        accuracy: 0.680 (17/25)\n",
      "        micro: F1: 0.680, precision: 0.680, recall: 0.680\n",
      "        macro: F1: 0.545, precision: 0.489, recall: 0.667\n"
     ]
    },
    {
     "data": {
      "text/plain": [
       "iris.model.IrisNetwork (2)"
      ]
     },
     "execution_count": 7,
     "metadata": {},
     "output_type": "execute_result"
    }
   ],
   "source": [
    "# set the number of epochs and learning rate, which are both model parameters\n",
    "facade.epochs = 30\n",
    "facade.learning_rate = .01\n",
    "\n",
    "# train and test the model\n",
    "facade.train()\n",
    "facade.test()"
   ]
  },
  {
   "cell_type": "markdown",
   "metadata": {},
   "source": [
    "## Network parameters\n",
    "\n",
    "While we're at it, let's also adjust the drop out, which is a network settings, to see if we can get better results.  Also note that the model converged pretty late indicating we aren't over training, so add more epochs."
   ]
  },
  {
   "cell_type": "code",
   "execution_count": 8,
   "metadata": {},
   "outputs": [
    {
     "name": "stderr",
     "output_type": "stream",
     "text": [
      "2020-06-27 16:10:58,289 zensols.deeplearn.model.facade [INFO]: training...\n",
      "train: 5.819|valid: 2.943/2.719 /\\: 100%|██| 1000/1000 [00:18<00:00, 52.80it/s]\n",
      "2020-06-27 16:11:17,755 zensols.deeplearn.model.facade [INFO]: trained in 19s\n",
      "2020-06-27 16:11:18,004 zensols.deeplearn.model.facade [INFO]: testing...\n",
      "2020-06-27 16:11:18,008 zensols.deeplearn.model.facade [INFO]: trained in 0s\n",
      "2020-06-27 16:11:18,009 zensols.deeplearn.model.facade [INFO]: load previous results\n"
     ]
    },
    {
     "name": "stdout",
     "output_type": "stream",
     "text": [
      "Name: Iris: 1\n",
      "Run index: 2\n",
      "Learning rate: 0.005\n",
      "    train:\n",
      "        started: 06/27/2020 16:10:58:292133\n",
      "        ended: 06/27/2020 16:11:17:230495\n",
      "        batches: 6\n",
      "        ave data points per batch: 18.8\n",
      "        converged/epochs: 919/1000\n",
      "        ave/min loss: 5.29254/2.46816\n",
      "        accuracy: 0.903 (102/113)\n",
      "        micro: F1: 0.903, precision: 0.903, recall: 0.903\n",
      "        macro: F1: 0.901, precision: 0.903, recall: 0.904\n",
      "    validation:\n",
      "        batches: 1\n",
      "        ave data points per batch: 12.0\n",
      "        converged/epochs: 615/1000\n",
      "        ave/min loss: 2.71876/2.71876\n",
      "        accuracy: 1.000 (12/12)\n",
      "        micro: F1: 1.000, precision: 1.000, recall: 1.000\n",
      "        macro: F1: 1.000, precision: 1.000, recall: 1.000\n",
      "    test:\n",
      "        started: 06/27/2020 16:11:18:006195\n",
      "        ended: 06/27/2020 16:11:18:008728\n",
      "        batches: 2\n",
      "        ave data points per batch: 12.5\n",
      "        converged/epochs: 1/1\n",
      "        ave/min loss: 3.73291/0.91853\n",
      "        accuracy: 0.880 (22/25)\n",
      "        micro: F1: 0.880, precision: 0.880, recall: 0.880\n",
      "        macro: F1: 0.864, precision: 0.900, recall: 0.875\n"
     ]
    },
    {
     "name": "stderr",
     "output_type": "stream",
     "text": [
      "2020-06-27 16:11:18,597 zensols.deeplearn.result.domain [INFO]: dumping text results to ../target/iris/results/data-4.txt\n",
      "2020-06-27 16:11:18,943 zensols.deeplearn.result.plot [INFO]: saving results graph to ../target/iris/results/graph-4.png\n"
     ]
    },
    {
     "data": {
      "image/png": "[encoded data removed]",
      "text/plain": [
       "<Figure size 1080x360 with 1 Axes>"
      ]
     },
     "metadata": {
      "needs_background": "light"
     },
     "output_type": "display_data"
    }
   ],
   "source": [
    "# turn off output so we can get just the final results later with `write_results`\n",
    "facade.writer = None\n",
    "# set network parameter `dropout` and model settings to achieve better performance\n",
    "facade.dropout = 0.1\n",
    "facade.epochs = 1000\n",
    "facade.learning_rate = .005\n",
    "# train and test again\n",
    "facade.train()\n",
    "facade.test()\n",
    "# display the results in this cell\n",
    "facade.write_results()\n",
    "# now since we like our results, save them to disk\n",
    "facade.persist_results()"
   ]
  },
  {
   "cell_type": "markdown",
   "metadata": {},
   "source": [
    "## Predictions\n",
    "\n",
    "The executor contains the results from the last run, in additional to saving it.  In our case, we have the same instance of the model we just tested, which contains not only the performance metrics, but the predictions themselves.  Use `get_predictions` to get a Pandas `pd.DataFrame` for the results."
   ]
  },
  {
   "cell_type": "code",
   "execution_count": 9,
   "metadata": {},
   "outputs": [
    {
     "name": "stderr",
     "output_type": "stream",
     "text": [
      "2020-06-27 16:11:19,249 zensols.deeplearn.batch.stash [INFO]: loaded batch 1 (test) in 0s\n",
      "2020-06-27 16:11:19,260 zensols.deeplearn.batch.stash [INFO]: loaded batch 2 (test) in 0s\n"
     ]
    },
    {
     "data": {
      "text/html": [
       "<div>\n",
       "<style scoped>\n",
       "    .dataframe tbody tr th:only-of-type {\n",
       "        vertical-align: middle;\n",
       "    }\n",
       "\n",
       "    .dataframe tbody tr th {\n",
       "        vertical-align: top;\n",
       "    }\n",
       "\n",
       "    .dataframe thead th {\n",
       "        text-align: right;\n",
       "    }\n",
       "</style>\n",
       "<table border=\"1\" class=\"dataframe\">\n",
       "  <thead>\n",
       "    <tr style=\"text-align: right;\">\n",
       "      <th></th>\n",
       "      <th>id</th>\n",
       "      <th>label</th>\n",
       "      <th>pred</th>\n",
       "      <th>correct</th>\n",
       "      <th>data</th>\n",
       "    </tr>\n",
       "  </thead>\n",
       "  <tbody>\n",
       "    <tr>\n",
       "      <th>0</th>\n",
       "      <td>17</td>\n",
       "      <td>setosa</td>\n",
       "      <td>setosa</td>\n",
       "      <td>True</td>\n",
       "      <td>sepal_length=5.1, sepal_width=3.5, petal_lengt...</td>\n",
       "    </tr>\n",
       "    <tr>\n",
       "      <th>1</th>\n",
       "      <td>30</td>\n",
       "      <td>setosa</td>\n",
       "      <td>setosa</td>\n",
       "      <td>True</td>\n",
       "      <td>sepal_length=4.8, sepal_width=3.1, petal_lengt...</td>\n",
       "    </tr>\n",
       "    <tr>\n",
       "      <th>2</th>\n",
       "      <td>31</td>\n",
       "      <td>setosa</td>\n",
       "      <td>setosa</td>\n",
       "      <td>True</td>\n",
       "      <td>sepal_length=5.4, sepal_width=3.4, petal_lengt...</td>\n",
       "    </tr>\n",
       "    <tr>\n",
       "      <th>3</th>\n",
       "      <td>33</td>\n",
       "      <td>setosa</td>\n",
       "      <td>setosa</td>\n",
       "      <td>True</td>\n",
       "      <td>sepal_length=5.5, sepal_width=4.2, petal_lengt...</td>\n",
       "    </tr>\n",
       "    <tr>\n",
       "      <th>4</th>\n",
       "      <td>41</td>\n",
       "      <td>setosa</td>\n",
       "      <td>setosa</td>\n",
       "      <td>True</td>\n",
       "      <td>sepal_length=4.5, sepal_width=2.3, petal_lengt...</td>\n",
       "    </tr>\n",
       "    <tr>\n",
       "      <th>5</th>\n",
       "      <td>43</td>\n",
       "      <td>setosa</td>\n",
       "      <td>setosa</td>\n",
       "      <td>True</td>\n",
       "      <td>sepal_length=5.0, sepal_width=3.5, petal_lengt...</td>\n",
       "    </tr>\n",
       "    <tr>\n",
       "      <th>6</th>\n",
       "      <td>45</td>\n",
       "      <td>setosa</td>\n",
       "      <td>setosa</td>\n",
       "      <td>True</td>\n",
       "      <td>sepal_length=4.8, sepal_width=3.0, petal_lengt...</td>\n",
       "    </tr>\n",
       "    <tr>\n",
       "      <th>7</th>\n",
       "      <td>46</td>\n",
       "      <td>setosa</td>\n",
       "      <td>setosa</td>\n",
       "      <td>True</td>\n",
       "      <td>sepal_length=5.1, sepal_width=3.8, petal_lengt...</td>\n",
       "    </tr>\n",
       "    <tr>\n",
       "      <th>8</th>\n",
       "      <td>48</td>\n",
       "      <td>setosa</td>\n",
       "      <td>setosa</td>\n",
       "      <td>True</td>\n",
       "      <td>sepal_length=5.3, sepal_width=3.7, petal_lengt...</td>\n",
       "    </tr>\n",
       "    <tr>\n",
       "      <th>9</th>\n",
       "      <td>49</td>\n",
       "      <td>setosa</td>\n",
       "      <td>setosa</td>\n",
       "      <td>True</td>\n",
       "      <td>sepal_length=5.0, sepal_width=3.3, petal_lengt...</td>\n",
       "    </tr>\n",
       "    <tr>\n",
       "      <th>10</th>\n",
       "      <td>68</td>\n",
       "      <td>versicolor</td>\n",
       "      <td>virginica</td>\n",
       "      <td>False</td>\n",
       "      <td>sepal_length=6.2, sepal_width=2.2, petal_lengt...</td>\n",
       "    </tr>\n",
       "    <tr>\n",
       "      <th>11</th>\n",
       "      <td>70</td>\n",
       "      <td>versicolor</td>\n",
       "      <td>virginica</td>\n",
       "      <td>False</td>\n",
       "      <td>sepal_length=5.9, sepal_width=3.2, petal_lengt...</td>\n",
       "    </tr>\n",
       "    <tr>\n",
       "      <th>12</th>\n",
       "      <td>72</td>\n",
       "      <td>versicolor</td>\n",
       "      <td>virginica</td>\n",
       "      <td>False</td>\n",
       "      <td>sepal_length=6.3, sepal_width=2.5, petal_lengt...</td>\n",
       "    </tr>\n",
       "    <tr>\n",
       "      <th>13</th>\n",
       "      <td>73</td>\n",
       "      <td>versicolor</td>\n",
       "      <td>versicolor</td>\n",
       "      <td>True</td>\n",
       "      <td>sepal_length=6.1, sepal_width=2.8, petal_lengt...</td>\n",
       "    </tr>\n",
       "    <tr>\n",
       "      <th>14</th>\n",
       "      <td>78</td>\n",
       "      <td>versicolor</td>\n",
       "      <td>versicolor</td>\n",
       "      <td>True</td>\n",
       "      <td>sepal_length=6.0, sepal_width=2.9, petal_lengt...</td>\n",
       "    </tr>\n",
       "    <tr>\n",
       "      <th>15</th>\n",
       "      <td>81</td>\n",
       "      <td>versicolor</td>\n",
       "      <td>versicolor</td>\n",
       "      <td>True</td>\n",
       "      <td>sepal_length=5.5, sepal_width=2.4, petal_lengt...</td>\n",
       "    </tr>\n",
       "    <tr>\n",
       "      <th>16</th>\n",
       "      <td>90</td>\n",
       "      <td>versicolor</td>\n",
       "      <td>versicolor</td>\n",
       "      <td>True</td>\n",
       "      <td>sepal_length=5.5, sepal_width=2.6, petal_lengt...</td>\n",
       "    </tr>\n",
       "    <tr>\n",
       "      <th>17</th>\n",
       "      <td>91</td>\n",
       "      <td>versicolor</td>\n",
       "      <td>versicolor</td>\n",
       "      <td>True</td>\n",
       "      <td>sepal_length=6.1, sepal_width=3.0, petal_lengt...</td>\n",
       "    </tr>\n",
       "    <tr>\n",
       "      <th>18</th>\n",
       "      <td>131</td>\n",
       "      <td>virginica</td>\n",
       "      <td>virginica</td>\n",
       "      <td>True</td>\n",
       "      <td>sepal_length=7.9, sepal_width=3.8, petal_lengt...</td>\n",
       "    </tr>\n",
       "    <tr>\n",
       "      <th>19</th>\n",
       "      <td>133</td>\n",
       "      <td>virginica</td>\n",
       "      <td>virginica</td>\n",
       "      <td>True</td>\n",
       "      <td>sepal_length=6.3, sepal_width=2.8, petal_lengt...</td>\n",
       "    </tr>\n",
       "    <tr>\n",
       "      <th>20</th>\n",
       "      <td>135</td>\n",
       "      <td>virginica</td>\n",
       "      <td>virginica</td>\n",
       "      <td>True</td>\n",
       "      <td>sepal_length=7.7, sepal_width=3.0, petal_lengt...</td>\n",
       "    </tr>\n",
       "    <tr>\n",
       "      <th>21</th>\n",
       "      <td>137</td>\n",
       "      <td>virginica</td>\n",
       "      <td>virginica</td>\n",
       "      <td>True</td>\n",
       "      <td>sepal_length=6.4, sepal_width=3.1, petal_lengt...</td>\n",
       "    </tr>\n",
       "    <tr>\n",
       "      <th>22</th>\n",
       "      <td>147</td>\n",
       "      <td>virginica</td>\n",
       "      <td>virginica</td>\n",
       "      <td>True</td>\n",
       "      <td>sepal_length=6.5, sepal_width=3.0, petal_lengt...</td>\n",
       "    </tr>\n",
       "    <tr>\n",
       "      <th>23</th>\n",
       "      <td>148</td>\n",
       "      <td>virginica</td>\n",
       "      <td>virginica</td>\n",
       "      <td>True</td>\n",
       "      <td>sepal_length=6.2, sepal_width=3.4, petal_lengt...</td>\n",
       "    </tr>\n",
       "    <tr>\n",
       "      <th>24</th>\n",
       "      <td>149</td>\n",
       "      <td>virginica</td>\n",
       "      <td>virginica</td>\n",
       "      <td>True</td>\n",
       "      <td>sepal_length=5.9, sepal_width=3.0, petal_lengt...</td>\n",
       "    </tr>\n",
       "  </tbody>\n",
       "</table>\n",
       "</div>"
      ],
      "text/plain": [
       "     id       label        pred  correct  \\\n",
       "0    17      setosa      setosa     True   \n",
       "1    30      setosa      setosa     True   \n",
       "2    31      setosa      setosa     True   \n",
       "3    33      setosa      setosa     True   \n",
       "4    41      setosa      setosa     True   \n",
       "5    43      setosa      setosa     True   \n",
       "6    45      setosa      setosa     True   \n",
       "7    46      setosa      setosa     True   \n",
       "8    48      setosa      setosa     True   \n",
       "9    49      setosa      setosa     True   \n",
       "10   68  versicolor   virginica    False   \n",
       "11   70  versicolor   virginica    False   \n",
       "12   72  versicolor   virginica    False   \n",
       "13   73  versicolor  versicolor     True   \n",
       "14   78  versicolor  versicolor     True   \n",
       "15   81  versicolor  versicolor     True   \n",
       "16   90  versicolor  versicolor     True   \n",
       "17   91  versicolor  versicolor     True   \n",
       "18  131   virginica   virginica     True   \n",
       "19  133   virginica   virginica     True   \n",
       "20  135   virginica   virginica     True   \n",
       "21  137   virginica   virginica     True   \n",
       "22  147   virginica   virginica     True   \n",
       "23  148   virginica   virginica     True   \n",
       "24  149   virginica   virginica     True   \n",
       "\n",
       "                                                 data  \n",
       "0   sepal_length=5.1, sepal_width=3.5, petal_lengt...  \n",
       "1   sepal_length=4.8, sepal_width=3.1, petal_lengt...  \n",
       "2   sepal_length=5.4, sepal_width=3.4, petal_lengt...  \n",
       "3   sepal_length=5.5, sepal_width=4.2, petal_lengt...  \n",
       "4   sepal_length=4.5, sepal_width=2.3, petal_lengt...  \n",
       "5   sepal_length=5.0, sepal_width=3.5, petal_lengt...  \n",
       "6   sepal_length=4.8, sepal_width=3.0, petal_lengt...  \n",
       "7   sepal_length=5.1, sepal_width=3.8, petal_lengt...  \n",
       "8   sepal_length=5.3, sepal_width=3.7, petal_lengt...  \n",
       "9   sepal_length=5.0, sepal_width=3.3, petal_lengt...  \n",
       "10  sepal_length=6.2, sepal_width=2.2, petal_lengt...  \n",
       "11  sepal_length=5.9, sepal_width=3.2, petal_lengt...  \n",
       "12  sepal_length=6.3, sepal_width=2.5, petal_lengt...  \n",
       "13  sepal_length=6.1, sepal_width=2.8, petal_lengt...  \n",
       "14  sepal_length=6.0, sepal_width=2.9, petal_lengt...  \n",
       "15  sepal_length=5.5, sepal_width=2.4, petal_lengt...  \n",
       "16  sepal_length=5.5, sepal_width=2.6, petal_lengt...  \n",
       "17  sepal_length=6.1, sepal_width=3.0, petal_lengt...  \n",
       "18  sepal_length=7.9, sepal_width=3.8, petal_lengt...  \n",
       "19  sepal_length=6.3, sepal_width=2.8, petal_lengt...  \n",
       "20  sepal_length=7.7, sepal_width=3.0, petal_lengt...  \n",
       "21  sepal_length=6.4, sepal_width=3.1, petal_lengt...  \n",
       "22  sepal_length=6.5, sepal_width=3.0, petal_lengt...  \n",
       "23  sepal_length=6.2, sepal_width=3.4, petal_lengt...  \n",
       "24  sepal_length=5.9, sepal_width=3.0, petal_lengt...  "
      ]
     },
     "execution_count": 9,
     "metadata": {},
     "output_type": "execute_result"
    }
   ],
   "source": [
    "# optionally, we can transform the data point instance used, otherwise it defaults to `str`\n",
    "def map_data_point(dp):\n",
    "    \"\"\"Map the data point's Pandas row information (pd.Series) to key/value string.\n",
    "    \n",
    "    \"\"\"\n",
    "    s = ', '.join(map(lambda x: f'{x[0]}={x[1]}', dp.row.iteritems()))\n",
    "    return (s,)\n",
    "facade.get_predictions(transform=map_data_point)"
   ]
  }
 ],
 "metadata": {
  "kernelspec": {
   "display_name": "Python 3",
   "language": "python",
   "name": "python3"
  },
  "language_info": {
   "codemirror_mode": {
    "name": "ipython",
    "version": 3
   },
   "file_extension": ".py",
   "mimetype": "text/x-python",
   "name": "python",
   "nbconvert_exporter": "python",
   "pygments_lexer": "ipython3",
   "version": "3.7.4"
  }
 },
 "nbformat": 4,
 "nbformat_minor": 4
}
