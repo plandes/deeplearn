{
 "cells": [
  {
   "cell_type": "markdown",
   "metadata": {},
   "source": [
    "# Deep learning framework example\n",
    "\n",
    "This notebook demonstrates how to use the deeplearning API to train and test the model on the [Iris dataset](https://archive.ics.uci.edu/ml/datasets/iris).\n",
    "\n",
    "To install the necessary software, use `make deps` in the root directory of the project.  If you don't have make installed or don't want to use it, then use:\n",
    "\n",
    "`pip install -r src/python/requirements.txt`\n",
    "\n",
    "\n",
    "## What is demoed\n",
    "\n",
    "This notebook shows how to create an executor directly.  However, an easier more client friendly facade is available and given in the *mnist* notebook.\n",
    "\n",
    "Also see the the *debug* notebook, which demostrates how to debug a model."
   ]
  },
  {
   "cell_type": "code",
   "execution_count": 1,
   "metadata": {},
   "outputs": [],
   "source": [
    "# set up notebook environment\n",
    "import sys\n",
    "app_root_dir = '..'\n",
    "sys.path.append(app_root_dir + '/src/python')\n",
    "sys.path.append(app_root_dir + '/test/python')\n",
    "\n",
    "from zensols.deeplearn import TorchConfig\n",
    "# set the random seed so things are predictable\n",
    "TorchConfig.set_random_seed()"
   ]
  },
  {
   "cell_type": "markdown",
   "metadata": {},
   "source": [
    "## Create the object factory\n",
    "\n",
    "This creates a factoty that instantiates Python objects using a simple configuration (INI).  This removes much of the complexity of creating and \"hooking up\" all the instances."
   ]
  },
  {
   "cell_type": "code",
   "execution_count": 2,
   "metadata": {},
   "outputs": [],
   "source": [
    "import logging\n",
    "from zensols.config import ExtendedInterpolationEnvConfig as AppConfig\n",
    "from zensols.config import ImportConfigFactory\n",
    "from zensols.deeplearn.result import ModelResultGrapher\n",
    "\n",
    "# configure the environment\n",
    "config = AppConfig(app_root_dir + '/test-resources/iris/iris.conf',\n",
    "                   env={'app_root': app_root_dir})\n",
    "\n",
    "# create a factoty that instantiates Python objects using a simple configuration (INI)\n",
    "factory = ImportConfigFactory(config, shared=True)"
   ]
  },
  {
   "cell_type": "markdown",
   "metadata": {},
   "source": [
    "## Create the model executor\n",
    "\n",
    "Use the factory to create the model executor (see the `executor` section of `test-resources/iris/iris.conf`).  The `write` method gives statistics on the data set that is configured on the executor."
   ]
  },
  {
   "cell_type": "code",
   "execution_count": 3,
   "metadata": {},
   "outputs": [
    {
     "name": "stdout",
     "output_type": "stream",
     "text": [
      "model: Iris\n",
      "feature splits:\n",
      "    data frame splits:\n",
      "        dev: 12 (8.0%)\n",
      "        test: 25 (16.7%)\n",
      "        train: 113 (75.3%)\n",
      "        total: 150\n",
      "batch splits:\n",
      "    split stash splits:\n",
      "        dev: 1 (11.1%)\n",
      "        test: 2 (22.2%)\n",
      "        train: 6 (66.7%)\n",
      "        total: 9\n",
      "    total this instance: 9\n",
      "    keys consistent: True\n"
     ]
    }
   ],
   "source": [
    "executor = factory('executor')\n",
    "executor.write()"
   ]
  },
  {
   "cell_type": "markdown",
   "metadata": {},
   "source": [
    "## Print the model\n",
    "\n",
    "Every time the executor is told to train, it creates a new model.  It also stores this model to the disk every time the validation loss drops.  The method that controls the creation is `_create_model`, and not meant to be called by the client.  Note this creates a new PyTorch `torch.nn.Module` every time and isn't the same instance used by the executor.\n",
    "\n",
    "In this case, a four deep fully connected network is created and fanned out from the 4 features (from four columns from the CSV file) to 20.  This is then reduce to the output layer having three neurons indicating which type of flower (setosa, versicolor, or virginica)."
   ]
  },
  {
   "cell_type": "code",
   "execution_count": 4,
   "metadata": {},
   "outputs": [
    {
     "name": "stdout",
     "output_type": "stream",
     "text": [
      "IrisNetwork(\n",
      "  (fc): DeepLinear(\n",
      "    (seq_layers): Sequential(\n",
      "      (0): Linear(in_features=4, out_features=5, bias=True)\n",
      "      (1): Dropout(p=0.1, inplace=False)\n",
      "      (2): Linear(in_features=5, out_features=1, bias=True)\n",
      "      (3): Dropout(p=0.1, inplace=False)\n",
      "      (4): Linear(in_features=1, out_features=3, bias=True)\n",
      "      (5): Dropout(p=0.1, inplace=False)\n",
      "    )\n",
      "  )\n",
      ")\n"
     ]
    }
   ],
   "source": [
    "print(executor._create_model())"
   ]
  },
  {
   "cell_type": "markdown",
   "metadata": {},
   "source": [
    "## Train and test the model\n",
    "\n",
    "This trains the model on the Iris (flower) data set and prints the results.  The PyTorch model itself is also printed."
   ]
  },
  {
   "cell_type": "code",
   "execution_count": 5,
   "metadata": {},
   "outputs": [
    {
     "name": "stderr",
     "output_type": "stream",
     "text": [
      "train: 8.114|valid: 5.261/3.489 /\\: 100%|██████| 15/15 [00:00<00:00, 57.71it/s]\n"
     ]
    },
    {
     "name": "stdout",
     "output_type": "stream",
     "text": [
      "Name: Iris: 1\n",
      "Run index: 2\n",
      "Learning rate: 0.1\n",
      "    train:\n",
      "        started: 06/25/2020 10:18:02:591247\n",
      "        ended: 06/25/2020 10:18:02:852020\n",
      "        batches: 6\n",
      "        ave data points per batch: 18.8\n",
      "        converged/epochs: 13/15\n",
      "        ave/min loss: 1.81979/2.50566\n",
      "        accuracy: 0.520 (882/1695)\n",
      "        micro: F1: 0.520, precision: 0.520, recall: 0.520\n",
      "        macro: F1: 0.503, precision: 0.542, recall: 0.527\n",
      "    validation:\n",
      "        batches: 1\n",
      "        ave data points per batch: 12.0\n",
      "        converged/epochs: 13/15\n",
      "        ave/min loss: 5.48564/3.48851\n",
      "        accuracy: 0.678 (122/180)\n",
      "        micro: F1: 0.678, precision: 0.678, recall: 0.678\n",
      "        macro: F1: 0.559, precision: 0.595, recall: 0.571\n",
      "    test:\n",
      "        started: 06/25/2020 10:18:02:873960\n",
      "        ended: 06/25/2020 10:18:02:875162\n",
      "        batches: 2\n",
      "        ave data points per batch: 12.5\n",
      "        converged/epochs: 0/1\n",
      "        ave/min loss: 2.25260/2.13488\n",
      "        accuracy: 0.640 (16/25)\n",
      "        micro: F1: 0.640, precision: 0.640, recall: 0.640\n",
      "        macro: F1: 0.565, precision: 0.571, recall: 0.613\n"
     ]
    },
    {
     "data": {
      "image/png": "[encoded data removed]",
      "text/plain": [
       "<Figure size 1080x360 with 1 Axes>"
      ]
     },
     "metadata": {
      "needs_background": "light"
     },
     "output_type": "display_data"
    }
   ],
   "source": [
    "# tell the executor to give us console output\n",
    "executor.progress_bar = True\n",
    "\n",
    "# train the model\n",
    "executor.train()\n",
    "\n",
    "# test the model\n",
    "res = executor.test()\n",
    "\n",
    "# write a summary of the results\n",
    "res.write()\n",
    "\n",
    "# graph the results\n",
    "grapher = ModelResultGrapher('Iris dataset', [15, 5])\n",
    "grapher.plot([res])"
   ]
  },
  {
   "cell_type": "markdown",
   "metadata": {},
   "source": [
    "## Fine tune setting hyperparameters\n",
    "\n",
    "Now that we have our model training and we have evaluated the results, we see the validation loss is very spiky.  This means our learning rate is probably too high as when it moves during stochastic gradient descent it is \"jumping\" too far and back up the error surface.\n",
    "\n",
    "To fix that, let's decrease the learning rate.  We can do that by adjusting the hyperparameters directly on the executor."
   ]
  },
  {
   "cell_type": "code",
   "execution_count": 6,
   "metadata": {},
   "outputs": [
    {
     "name": "stderr",
     "output_type": "stream",
     "text": [
      "train: 11.085|valid: 5.847/5.961 \\/: 100%|█████| 30/30 [00:00<00:00, 49.50it/s]\n"
     ]
    },
    {
     "name": "stdout",
     "output_type": "stream",
     "text": [
      "Name: Iris: 1\n",
      "Run index: 2\n",
      "Learning rate: 0.01\n",
      "    train:\n",
      "        started: 06/25/2020 10:18:03:240168\n",
      "        ended: 06/25/2020 10:18:03:846843\n",
      "        batches: 6\n",
      "        ave data points per batch: 18.8\n",
      "        converged/epochs: 29/30\n",
      "        ave/min loss: 2.14791/5.51567\n",
      "        accuracy: 0.327 (1108/3390)\n",
      "        micro: F1: 0.327, precision: 0.327, recall: 0.327\n",
      "        macro: F1: 0.249, precision: 0.259, recall: 0.336\n",
      "    validation:\n",
      "        batches: 1\n",
      "        ave data points per batch: 12.0\n",
      "        converged/epochs: 29/30\n",
      "        ave/min loss: 6.92708/5.84668\n",
      "        accuracy: 0.556 (200/360)\n",
      "        micro: F1: 0.556, precision: 0.556, recall: 0.556\n",
      "        macro: F1: 0.275, precision: 0.564, recall: 0.328\n",
      "    test:\n",
      "        started: 06/25/2020 10:18:03:875823\n",
      "        ended: 06/25/2020 10:18:03:877081\n",
      "        batches: 2\n",
      "        ave data points per batch: 12.5\n",
      "        converged/epochs: 0/1\n",
      "        ave/min loss: 3.67419/1.93845\n",
      "        accuracy: 0.320 (8/25)\n",
      "        micro: F1: 0.320, precision: 0.320, recall: 0.320\n",
      "        macro: F1: 0.273, precision: 0.489, recall: 0.367\n"
     ]
    },
    {
     "data": {
      "image/png": "[encoded data removed]",
      "text/plain": [
       "<Figure size 1080x360 with 1 Axes>"
      ]
     },
     "metadata": {
      "needs_background": "light"
     },
     "output_type": "display_data"
    }
   ],
   "source": [
    "def run_model():\n",
    "    # reset all state from the previous train/test\n",
    "    executor.reset()\n",
    "    # train/test\n",
    "    executor.train()\n",
    "    res = executor.test()\n",
    "    # results\n",
    "    res.write()\n",
    "    grapher = ModelResultGrapher('Iris dataset', [15, 5])\n",
    "    grapher.plot([res])\n",
    "\n",
    "# set the number of epochs and learning rate, which are both model parameters\n",
    "executor.model_settings.epochs = 30\n",
    "executor.model_settings.learning_rate = .01\n",
    "\n",
    "# run the model with the new\n",
    "run_model()"
   ]
  },
  {
   "cell_type": "markdown",
   "metadata": {},
   "source": [
    "## Network parameters\n",
    "\n",
    "While we're at it, let's also adjust the drop out, which is a network settings, to see if we can get better results.  Also note that the model converged pretty late indicating we aren't over training, so add more epochs."
   ]
  },
  {
   "cell_type": "code",
   "execution_count": 7,
   "metadata": {},
   "outputs": [
    {
     "name": "stderr",
     "output_type": "stream",
     "text": [
      "train: 6.161|valid: 3.131/3.056 /\\: 100%|██| 1000/1000 [00:24<00:00, 40.38it/s]\n"
     ]
    },
    {
     "name": "stdout",
     "output_type": "stream",
     "text": [
      "Name: Iris: 1\n",
      "Run index: 2\n",
      "Learning rate: 0.005\n",
      "    train:\n",
      "        started: 06/25/2020 10:18:04:188672\n",
      "        ended: 06/25/2020 10:18:28:955896\n",
      "        batches: 6\n",
      "        ave data points per batch: 18.8\n",
      "        converged/epochs: 981/1000\n",
      "        ave/min loss: 1.22252/2.38270\n",
      "        accuracy: 0.731 (82625/113000)\n",
      "        micro: F1: 0.731, precision: 0.731, recall: 0.731\n",
      "        macro: F1: 0.727, precision: 0.736, recall: 0.735\n",
      "    validation:\n",
      "        batches: 1\n",
      "        ave data points per batch: 12.0\n",
      "        converged/epochs: 967/1000\n",
      "        ave/min loss: 3.80331/3.05561\n",
      "        accuracy: 0.897 (10765/12000)\n",
      "        micro: F1: 0.897, precision: 0.897, recall: 0.897\n",
      "        macro: F1: 0.892, precision: 0.908, recall: 0.877\n",
      "    test:\n",
      "        started: 06/25/2020 10:18:29:528368\n",
      "        ended: 06/25/2020 10:18:29:529599\n",
      "        batches: 2\n",
      "        ave data points per batch: 12.5\n",
      "        converged/epochs: 0/1\n",
      "        ave/min loss: 1.75368/1.20605\n",
      "        accuracy: 0.880 (22/25)\n",
      "        micro: F1: 0.880, precision: 0.880, recall: 0.880\n",
      "        macro: F1: 0.864, precision: 0.900, recall: 0.875\n"
     ]
    },
    {
     "data": {
      "image/png": "[encoded data removed]",
      "text/plain": [
       "<Figure size 1080x360 with 1 Axes>"
      ]
     },
     "metadata": {
      "needs_background": "light"
     },
     "output_type": "display_data"
    }
   ],
   "source": [
    "# set a network parameter\n",
    "executor.net_settings.dropout = 0.1\n",
    "executor.model_settings.epochs = 1000\n",
    "executor.model_settings.learning_rate = .005\n",
    "run_model()"
   ]
  },
  {
   "cell_type": "markdown",
   "metadata": {},
   "source": [
    "## Predictions\n",
    "\n",
    "The executor contains the results from the last run, in additional to saving it.  In our case, we have the same instance of the model we just tested, which contains not only the performance metrics, but the predictions themselves.  Use `get_predictions` to get a Pandas `pd.DataFrame` for the results."
   ]
  },
  {
   "cell_type": "code",
   "execution_count": 8,
   "metadata": {},
   "outputs": [
    {
     "data": {
      "text/html": [
       "<div>\n",
       "<style scoped>\n",
       "    .dataframe tbody tr th:only-of-type {\n",
       "        vertical-align: middle;\n",
       "    }\n",
       "\n",
       "    .dataframe tbody tr th {\n",
       "        vertical-align: top;\n",
       "    }\n",
       "\n",
       "    .dataframe thead th {\n",
       "        text-align: right;\n",
       "    }\n",
       "</style>\n",
       "<table border=\"1\" class=\"dataframe\">\n",
       "  <thead>\n",
       "    <tr style=\"text-align: right;\">\n",
       "      <th></th>\n",
       "      <th>id</th>\n",
       "      <th>label</th>\n",
       "      <th>pred</th>\n",
       "      <th>correct</th>\n",
       "      <th>data</th>\n",
       "    </tr>\n",
       "  </thead>\n",
       "  <tbody>\n",
       "    <tr>\n",
       "      <th>0</th>\n",
       "      <td>17</td>\n",
       "      <td>setosa</td>\n",
       "      <td>setosa</td>\n",
       "      <td>True</td>\n",
       "      <td>sepal_length=5.1, sepal_width=3.5, petal_lengt...</td>\n",
       "    </tr>\n",
       "    <tr>\n",
       "      <th>1</th>\n",
       "      <td>30</td>\n",
       "      <td>setosa</td>\n",
       "      <td>setosa</td>\n",
       "      <td>True</td>\n",
       "      <td>sepal_length=4.8, sepal_width=3.1, petal_lengt...</td>\n",
       "    </tr>\n",
       "    <tr>\n",
       "      <th>2</th>\n",
       "      <td>31</td>\n",
       "      <td>setosa</td>\n",
       "      <td>setosa</td>\n",
       "      <td>True</td>\n",
       "      <td>sepal_length=5.4, sepal_width=3.4, petal_lengt...</td>\n",
       "    </tr>\n",
       "    <tr>\n",
       "      <th>3</th>\n",
       "      <td>33</td>\n",
       "      <td>setosa</td>\n",
       "      <td>setosa</td>\n",
       "      <td>True</td>\n",
       "      <td>sepal_length=5.5, sepal_width=4.2, petal_lengt...</td>\n",
       "    </tr>\n",
       "    <tr>\n",
       "      <th>4</th>\n",
       "      <td>41</td>\n",
       "      <td>setosa</td>\n",
       "      <td>setosa</td>\n",
       "      <td>True</td>\n",
       "      <td>sepal_length=4.5, sepal_width=2.3, petal_lengt...</td>\n",
       "    </tr>\n",
       "    <tr>\n",
       "      <th>5</th>\n",
       "      <td>43</td>\n",
       "      <td>setosa</td>\n",
       "      <td>setosa</td>\n",
       "      <td>True</td>\n",
       "      <td>sepal_length=5.0, sepal_width=3.5, petal_lengt...</td>\n",
       "    </tr>\n",
       "    <tr>\n",
       "      <th>6</th>\n",
       "      <td>45</td>\n",
       "      <td>setosa</td>\n",
       "      <td>setosa</td>\n",
       "      <td>True</td>\n",
       "      <td>sepal_length=4.8, sepal_width=3.0, petal_lengt...</td>\n",
       "    </tr>\n",
       "    <tr>\n",
       "      <th>7</th>\n",
       "      <td>46</td>\n",
       "      <td>setosa</td>\n",
       "      <td>setosa</td>\n",
       "      <td>True</td>\n",
       "      <td>sepal_length=5.1, sepal_width=3.8, petal_lengt...</td>\n",
       "    </tr>\n",
       "    <tr>\n",
       "      <th>8</th>\n",
       "      <td>48</td>\n",
       "      <td>setosa</td>\n",
       "      <td>setosa</td>\n",
       "      <td>True</td>\n",
       "      <td>sepal_length=5.3, sepal_width=3.7, petal_lengt...</td>\n",
       "    </tr>\n",
       "    <tr>\n",
       "      <th>9</th>\n",
       "      <td>49</td>\n",
       "      <td>setosa</td>\n",
       "      <td>setosa</td>\n",
       "      <td>True</td>\n",
       "      <td>sepal_length=5.0, sepal_width=3.3, petal_lengt...</td>\n",
       "    </tr>\n",
       "    <tr>\n",
       "      <th>10</th>\n",
       "      <td>68</td>\n",
       "      <td>versicolor</td>\n",
       "      <td>virginica</td>\n",
       "      <td>False</td>\n",
       "      <td>sepal_length=6.2, sepal_width=2.2, petal_lengt...</td>\n",
       "    </tr>\n",
       "    <tr>\n",
       "      <th>11</th>\n",
       "      <td>70</td>\n",
       "      <td>versicolor</td>\n",
       "      <td>virginica</td>\n",
       "      <td>False</td>\n",
       "      <td>sepal_length=5.9, sepal_width=3.2, petal_lengt...</td>\n",
       "    </tr>\n",
       "    <tr>\n",
       "      <th>12</th>\n",
       "      <td>72</td>\n",
       "      <td>versicolor</td>\n",
       "      <td>virginica</td>\n",
       "      <td>False</td>\n",
       "      <td>sepal_length=6.3, sepal_width=2.5, petal_lengt...</td>\n",
       "    </tr>\n",
       "    <tr>\n",
       "      <th>13</th>\n",
       "      <td>73</td>\n",
       "      <td>versicolor</td>\n",
       "      <td>versicolor</td>\n",
       "      <td>True</td>\n",
       "      <td>sepal_length=6.1, sepal_width=2.8, petal_lengt...</td>\n",
       "    </tr>\n",
       "    <tr>\n",
       "      <th>14</th>\n",
       "      <td>78</td>\n",
       "      <td>versicolor</td>\n",
       "      <td>versicolor</td>\n",
       "      <td>True</td>\n",
       "      <td>sepal_length=6.0, sepal_width=2.9, petal_lengt...</td>\n",
       "    </tr>\n",
       "    <tr>\n",
       "      <th>15</th>\n",
       "      <td>81</td>\n",
       "      <td>versicolor</td>\n",
       "      <td>versicolor</td>\n",
       "      <td>True</td>\n",
       "      <td>sepal_length=5.5, sepal_width=2.4, petal_lengt...</td>\n",
       "    </tr>\n",
       "    <tr>\n",
       "      <th>16</th>\n",
       "      <td>90</td>\n",
       "      <td>versicolor</td>\n",
       "      <td>versicolor</td>\n",
       "      <td>True</td>\n",
       "      <td>sepal_length=5.5, sepal_width=2.6, petal_lengt...</td>\n",
       "    </tr>\n",
       "    <tr>\n",
       "      <th>17</th>\n",
       "      <td>91</td>\n",
       "      <td>versicolor</td>\n",
       "      <td>versicolor</td>\n",
       "      <td>True</td>\n",
       "      <td>sepal_length=6.1, sepal_width=3.0, petal_lengt...</td>\n",
       "    </tr>\n",
       "    <tr>\n",
       "      <th>18</th>\n",
       "      <td>131</td>\n",
       "      <td>virginica</td>\n",
       "      <td>virginica</td>\n",
       "      <td>True</td>\n",
       "      <td>sepal_length=7.9, sepal_width=3.8, petal_lengt...</td>\n",
       "    </tr>\n",
       "    <tr>\n",
       "      <th>19</th>\n",
       "      <td>133</td>\n",
       "      <td>virginica</td>\n",
       "      <td>virginica</td>\n",
       "      <td>True</td>\n",
       "      <td>sepal_length=6.3, sepal_width=2.8, petal_lengt...</td>\n",
       "    </tr>\n",
       "    <tr>\n",
       "      <th>20</th>\n",
       "      <td>135</td>\n",
       "      <td>virginica</td>\n",
       "      <td>virginica</td>\n",
       "      <td>True</td>\n",
       "      <td>sepal_length=7.7, sepal_width=3.0, petal_lengt...</td>\n",
       "    </tr>\n",
       "    <tr>\n",
       "      <th>21</th>\n",
       "      <td>137</td>\n",
       "      <td>virginica</td>\n",
       "      <td>virginica</td>\n",
       "      <td>True</td>\n",
       "      <td>sepal_length=6.4, sepal_width=3.1, petal_lengt...</td>\n",
       "    </tr>\n",
       "    <tr>\n",
       "      <th>22</th>\n",
       "      <td>147</td>\n",
       "      <td>virginica</td>\n",
       "      <td>virginica</td>\n",
       "      <td>True</td>\n",
       "      <td>sepal_length=6.5, sepal_width=3.0, petal_lengt...</td>\n",
       "    </tr>\n",
       "    <tr>\n",
       "      <th>23</th>\n",
       "      <td>148</td>\n",
       "      <td>virginica</td>\n",
       "      <td>virginica</td>\n",
       "      <td>True</td>\n",
       "      <td>sepal_length=6.2, sepal_width=3.4, petal_lengt...</td>\n",
       "    </tr>\n",
       "    <tr>\n",
       "      <th>24</th>\n",
       "      <td>149</td>\n",
       "      <td>virginica</td>\n",
       "      <td>virginica</td>\n",
       "      <td>True</td>\n",
       "      <td>sepal_length=5.9, sepal_width=3.0, petal_lengt...</td>\n",
       "    </tr>\n",
       "  </tbody>\n",
       "</table>\n",
       "</div>"
      ],
      "text/plain": [
       "     id       label        pred  correct  \\\n",
       "0    17      setosa      setosa     True   \n",
       "1    30      setosa      setosa     True   \n",
       "2    31      setosa      setosa     True   \n",
       "3    33      setosa      setosa     True   \n",
       "4    41      setosa      setosa     True   \n",
       "5    43      setosa      setosa     True   \n",
       "6    45      setosa      setosa     True   \n",
       "7    46      setosa      setosa     True   \n",
       "8    48      setosa      setosa     True   \n",
       "9    49      setosa      setosa     True   \n",
       "10   68  versicolor   virginica    False   \n",
       "11   70  versicolor   virginica    False   \n",
       "12   72  versicolor   virginica    False   \n",
       "13   73  versicolor  versicolor     True   \n",
       "14   78  versicolor  versicolor     True   \n",
       "15   81  versicolor  versicolor     True   \n",
       "16   90  versicolor  versicolor     True   \n",
       "17   91  versicolor  versicolor     True   \n",
       "18  131   virginica   virginica     True   \n",
       "19  133   virginica   virginica     True   \n",
       "20  135   virginica   virginica     True   \n",
       "21  137   virginica   virginica     True   \n",
       "22  147   virginica   virginica     True   \n",
       "23  148   virginica   virginica     True   \n",
       "24  149   virginica   virginica     True   \n",
       "\n",
       "                                                 data  \n",
       "0   sepal_length=5.1, sepal_width=3.5, petal_lengt...  \n",
       "1   sepal_length=4.8, sepal_width=3.1, petal_lengt...  \n",
       "2   sepal_length=5.4, sepal_width=3.4, petal_lengt...  \n",
       "3   sepal_length=5.5, sepal_width=4.2, petal_lengt...  \n",
       "4   sepal_length=4.5, sepal_width=2.3, petal_lengt...  \n",
       "5   sepal_length=5.0, sepal_width=3.5, petal_lengt...  \n",
       "6   sepal_length=4.8, sepal_width=3.0, petal_lengt...  \n",
       "7   sepal_length=5.1, sepal_width=3.8, petal_lengt...  \n",
       "8   sepal_length=5.3, sepal_width=3.7, petal_lengt...  \n",
       "9   sepal_length=5.0, sepal_width=3.3, petal_lengt...  \n",
       "10  sepal_length=6.2, sepal_width=2.2, petal_lengt...  \n",
       "11  sepal_length=5.9, sepal_width=3.2, petal_lengt...  \n",
       "12  sepal_length=6.3, sepal_width=2.5, petal_lengt...  \n",
       "13  sepal_length=6.1, sepal_width=2.8, petal_lengt...  \n",
       "14  sepal_length=6.0, sepal_width=2.9, petal_lengt...  \n",
       "15  sepal_length=5.5, sepal_width=2.4, petal_lengt...  \n",
       "16  sepal_length=5.5, sepal_width=2.6, petal_lengt...  \n",
       "17  sepal_length=6.1, sepal_width=3.0, petal_lengt...  \n",
       "18  sepal_length=7.9, sepal_width=3.8, petal_lengt...  \n",
       "19  sepal_length=6.3, sepal_width=2.8, petal_lengt...  \n",
       "20  sepal_length=7.7, sepal_width=3.0, petal_lengt...  \n",
       "21  sepal_length=6.4, sepal_width=3.1, petal_lengt...  \n",
       "22  sepal_length=6.5, sepal_width=3.0, petal_lengt...  \n",
       "23  sepal_length=6.2, sepal_width=3.4, petal_lengt...  \n",
       "24  sepal_length=5.9, sepal_width=3.0, petal_lengt...  "
      ]
     },
     "execution_count": 8,
     "metadata": {},
     "output_type": "execute_result"
    }
   ],
   "source": [
    "# optionally, we can transform the data point instance used, otherwise it defaults to `str`\n",
    "def map_data_point(dp):\n",
    "    \"\"\"Map the data point's Pandas row information (pd.Series) to key/value string.\n",
    "    \n",
    "    \"\"\"\n",
    "    s = ', '.join(map(lambda x: f'{x[0]}={x[1]}', dp.row.iteritems()))\n",
    "    return (s,)\n",
    "df = executor.get_predictions(transform=map_data_point)\n",
    "df"
   ]
  }
 ],
 "metadata": {
  "kernelspec": {
   "display_name": "Python 3",
   "language": "python",
   "name": "python3"
  },
  "language_info": {
   "codemirror_mode": {
    "name": "ipython",
    "version": 3
   },
   "file_extension": ".py",
   "mimetype": "text/x-python",
   "name": "python",
   "nbconvert_exporter": "python",
   "pygments_lexer": "ipython3",
   "version": "3.7.4"
  }
 },
 "nbformat": 4,
 "nbformat_minor": 4
}
